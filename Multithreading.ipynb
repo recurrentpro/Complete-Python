{
 "cells": [
  {
   "cell_type": "markdown",
   "id": "9c76df03",
   "metadata": {},
   "source": [
    "# Without Class"
   ]
  },
  {
   "cell_type": "code",
   "execution_count": 19,
   "id": "5279b92a",
   "metadata": {},
   "outputs": [],
   "source": [
    "# read data from database [10]*0.5 = 5sec\n",
    "# read pdf file [10]*0.4 = 4sec\n",
    "\n",
    "\n",
    "#total = 9sec"
   ]
  },
  {
   "cell_type": "code",
   "execution_count": 28,
   "id": "63f60840",
   "metadata": {},
   "outputs": [],
   "source": [
    "import time\n",
    "from threading import Thread"
   ]
  },
  {
   "cell_type": "code",
   "execution_count": 31,
   "id": "14626170",
   "metadata": {},
   "outputs": [
    {
     "name": "stdout",
     "output_type": "stream",
     "text": [
      "Read the data from pdf 1\n",
      "Read the data from database: 1\n",
      "Read the data from pdf 2\n",
      "Read the data from database: 2\n",
      "Read the data from pdf 3\n",
      "Read the data from database: 3\n",
      "Read the data from pdf 4\n",
      "Read the data from database: 4\n",
      "Read the data from pdf 5\n",
      "Read the data from pdf 6\n",
      "Read the data from database: 5\n",
      "Read the data from pdf 7\n",
      "Read the data from database: 6\n",
      "Read the data from pdf 8\n",
      "Read the data from database: 7\n",
      "Read the data from pdf 9\n",
      "Read the data from database: 8\n",
      "Read the data from pdf 10\n",
      "Read the data from database: 9\n",
      "Read the data from database: 10\n",
      "Process time:  5.015465259552002\n"
     ]
    }
   ],
   "source": [
    "\n",
    "start_time = time.time()\n",
    "\n",
    "def read_data():\n",
    "    for i in range(10):\n",
    "        time.sleep(0.5)\n",
    "        print(\"Read the data from database:\", i+1)\n",
    "        \n",
    "def read_pdf():\n",
    "    for i in range(10):\n",
    "        time.sleep(0.4)\n",
    "        print(\"Read the data from pdf\", i+1)\n",
    "        \n",
    "\n",
    "# read_data()\n",
    "# read_pdf()\n",
    "\n",
    "t1 = Thread(target=read_data)\n",
    "t2 = Thread(target = read_pdf)\n",
    "\n",
    "t1.start()\n",
    "t2.start()\n",
    "\n",
    "t1.join()\n",
    "t2.join()\n",
    "\n",
    "end_time = time.time()\n",
    "print(\"Process time: \", end_time-start_time)"
   ]
  },
  {
   "cell_type": "markdown",
   "id": "deabab71",
   "metadata": {},
   "source": [
    "# Multithreading - With Class"
   ]
  },
  {
   "cell_type": "code",
   "execution_count": null,
   "id": "1b40d99d",
   "metadata": {},
   "outputs": [],
   "source": [
    "# read data from database [10]*0.5 = 5sec\n",
    "# read pdf file [10]*0.4 = 4sec\n",
    "\n",
    "\n",
    "#total = 9sec"
   ]
  },
  {
   "cell_type": "code",
   "execution_count": 34,
   "id": "88c2dcc1",
   "metadata": {},
   "outputs": [],
   "source": [
    "from threading import Thread\n",
    "from time import sleep, time"
   ]
  },
  {
   "cell_type": "code",
   "execution_count": 41,
   "id": "783ce612",
   "metadata": {},
   "outputs": [
    {
     "name": "stdout",
     "output_type": "stream",
     "text": [
      "T1 thread check:  True\n",
      "Number of thread  8\n"
     ]
    },
    {
     "name": "stderr",
     "output_type": "stream",
     "text": [
      "C:\\Users\\myrit\\AppData\\Local\\Temp\\ipykernel_31832\\1928324987.py:13: DeprecationWarning: getName() is deprecated, get the name attribute instead\n",
      "  print(\"Read pdf data\", i+1, current_thread().getName())\n",
      "C:\\Users\\myrit\\AppData\\Local\\Temp\\ipykernel_31832\\1928324987.py:7: DeprecationWarning: getName() is deprecated, get the name attribute instead\n",
      "  print(\"Read data fromd database\", i+1, current_thread().getName())\n"
     ]
    },
    {
     "name": "stdout",
     "output_type": "stream",
     "text": [
      "Read pdf data 1 Thread-32\n",
      "Read data fromd database 1 Thread-31\n",
      "Read pdf data 2 Thread-32\n",
      "Read data fromd database 2 Thread-31\n",
      "Read pdf data 3 Thread-32\n",
      "Read data fromd database 3 Thread-31\n",
      "Read pdf data 4 Thread-32\n",
      "Read pdf data 5 Thread-32\n",
      "Read data fromd database 4 Thread-31\n",
      "Read pdf data 6 Thread-32\n",
      "Read data fromd database 5 Thread-31\n",
      "Read pdf data 7 Thread-32\n",
      "Read data fromd database 6 Thread-31\n",
      "Read pdf data 8 Thread-32\n",
      "Read data fromd database 7 Thread-31\n",
      "Read pdf data 9 Thread-32\n",
      "Read data fromd database 8 Thread-31\n",
      "Read pdf data 10 Thread-32\n",
      "Read data fromd database 9 Thread-31\n",
      "Read data fromd database 10 Thread-31\n",
      "Processed time:  5.016285181045532 MainThread\n"
     ]
    },
    {
     "name": "stderr",
     "output_type": "stream",
     "text": [
      "C:\\Users\\myrit\\AppData\\Local\\Temp\\ipykernel_31832\\1928324987.py:28: DeprecationWarning: getName() is deprecated, get the name attribute instead\n",
      "  print(\"Processed time: \", end_time - start_time, current_thread().getName())\n"
     ]
    }
   ],
   "source": [
    "start_time = time()\n",
    "\n",
    "class read_data(Thread):\n",
    "    def run(self):\n",
    "        for i in range(10):\n",
    "            sleep(0.5)\n",
    "            print(\"Read data fromd database\", i+1, current_thread().getName())\n",
    "            \n",
    "class read_pdf(Thread):\n",
    "    def run(self):\n",
    "        for i in range(10):\n",
    "            sleep(0.4)\n",
    "            print(\"Read pdf data\", i+1, current_thread().getName())\n",
    "            \n",
    "            \n",
    "t1 = read_data()\n",
    "t2 = read_pdf()\n",
    "\n",
    "t1.start()\n",
    "t2.start()\n",
    "print(\"T1 thread check: \", t1.is_alive())\n",
    "print(\"Number of thread \", active_count())\n",
    "t1.join()\n",
    "t2.join()\n",
    "\n",
    "end_time = time()\n",
    "\n",
    "print(\"Processed time: \", end_time - start_time, current_thread().getName())"
   ]
  },
  {
   "cell_type": "code",
   "execution_count": 42,
   "id": "dcc9b8a7",
   "metadata": {},
   "outputs": [
    {
     "name": "stdout",
     "output_type": "stream",
     "text": [
      "Number of thread  6\n"
     ]
    }
   ],
   "source": [
    "print(\"Number of thread \", active_count())"
   ]
  },
  {
   "cell_type": "code",
   "execution_count": null,
   "id": "6395fb37",
   "metadata": {},
   "outputs": [],
   "source": []
  }
 ],
 "metadata": {
  "kernelspec": {
   "display_name": "Python 3 (ipykernel)",
   "language": "python",
   "name": "python3"
  },
  "language_info": {
   "codemirror_mode": {
    "name": "ipython",
    "version": 3
   },
   "file_extension": ".py",
   "mimetype": "text/x-python",
   "name": "python",
   "nbconvert_exporter": "python",
   "pygments_lexer": "ipython3",
   "version": "3.11.5"
  }
 },
 "nbformat": 4,
 "nbformat_minor": 5
}
