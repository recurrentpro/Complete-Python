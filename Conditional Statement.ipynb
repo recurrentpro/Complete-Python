{
 "cells": [
  {
   "cell_type": "code",
   "execution_count": 8,
   "id": "43e3a2b2",
   "metadata": {},
   "outputs": [],
   "source": [
    "a = 5\n",
    "b = 8\n",
    "c = 19"
   ]
  },
  {
   "cell_type": "code",
   "execution_count": 10,
   "id": "5ba50476",
   "metadata": {},
   "outputs": [
    {
     "name": "stdout",
     "output_type": "stream",
     "text": [
      "hello\n"
     ]
    }
   ],
   "source": [
    "if a<b:\n",
    "    print(\"hello\")"
   ]
  },
  {
   "cell_type": "code",
   "execution_count": 11,
   "id": "903b57d1",
   "metadata": {},
   "outputs": [
    {
     "name": "stdout",
     "output_type": "stream",
     "text": [
      "Hey\n"
     ]
    }
   ],
   "source": [
    "if a>b:#F\n",
    "    print(\"hello\")\n",
    "elif c>b:#T\n",
    "    print(\"Hey\")\n",
    "elif a>c:#F\n",
    "    print(\"Hi\")\n",
    "else:\n",
    "    print(\"Bye\")"
   ]
  },
  {
   "cell_type": "code",
   "execution_count": 12,
   "id": "50aa0e4e",
   "metadata": {},
   "outputs": [
    {
     "name": "stdout",
     "output_type": "stream",
     "text": [
      "hello\n"
     ]
    }
   ],
   "source": [
    "if a<b:#T\n",
    "    print(\"hello\")\n",
    "elif c>b:#T\n",
    "    print(\"Hey\")\n",
    "elif a<c:#T\n",
    "    print(\"Hi\")\n",
    "else:\n",
    "    print(\"Bye\")"
   ]
  },
  {
   "cell_type": "code",
   "execution_count": 13,
   "id": "430d49fa",
   "metadata": {},
   "outputs": [
    {
     "name": "stdout",
     "output_type": "stream",
     "text": [
      "Bye\n"
     ]
    }
   ],
   "source": [
    "if a>b:#F\n",
    "    print(\"hello\")\n",
    "elif c<b:#F\n",
    "    print(\"Hey\")\n",
    "elif a>c:#F\n",
    "    print(\"Hi\")\n",
    "else:\n",
    "    print(\"Bye\")"
   ]
  },
  {
   "cell_type": "markdown",
   "id": "7248380b",
   "metadata": {},
   "source": [
    "# Login with username and password (Nested Condition)"
   ]
  },
  {
   "cell_type": "code",
   "execution_count": 14,
   "id": "38cd7d9b",
   "metadata": {},
   "outputs": [],
   "source": [
    "user = \"hari\"\n",
    "password = \"hari123\""
   ]
  },
  {
   "cell_type": "code",
   "execution_count": 17,
   "id": "66f93079",
   "metadata": {},
   "outputs": [
    {
     "name": "stdout",
     "output_type": "stream",
     "text": [
      "Please enter your username: kajskd\n",
      "Please enter your password: hari123\n"
     ]
    }
   ],
   "source": [
    "user_input = input(\"Please enter your username: \")\n",
    "passwd_input = input(\"Please enter your password: \")\n",
    "\n",
    "if user_input == user:\n",
    "    if passwd_input== password:\n",
    "        print(\"Login successfull.......\")"
   ]
  },
  {
   "cell_type": "code",
   "execution_count": 22,
   "id": "b1bc4076",
   "metadata": {},
   "outputs": [
    {
     "name": "stdout",
     "output_type": "stream",
     "text": [
      "Please enter your username: hari\n",
      "Please enter your password: hari123\n",
      "Login successfull.......\n"
     ]
    }
   ],
   "source": [
    "user_input = input(\"Please enter your username: \")\n",
    "\n",
    "if user_input == user:\n",
    "    passwd_input = input(\"Please enter your password: \")\n",
    "    if passwd_input== password:\n",
    "        print(\"Login successfull.......\")\n",
    "    else:\n",
    "        print(\"password is incorrect!!\")\n",
    "else:\n",
    "    print(\"username is incorrect!!!\")"
   ]
  },
  {
   "cell_type": "code",
   "execution_count": 26,
   "id": "d7398215",
   "metadata": {},
   "outputs": [
    {
     "name": "stdout",
     "output_type": "stream",
     "text": [
      "Please enter your username: hsdl\n",
      "username is incorrect!!!\n"
     ]
    }
   ],
   "source": [
    "user_input = input(\"Please enter your username: \")\n",
    "\n",
    "if user_input == \"hari\":\n",
    "    passwd_input = input(\"Please enter your password: \")\n",
    "    if passwd_input== \"hari123\":\n",
    "        print(\"Login successfull.......\")\n",
    "    else:\n",
    "        print(\"password is incorrect!!\")\n",
    "elif user_input == \"john\":\n",
    "    passwd_input = input(\"Please enter your password: \")\n",
    "    if passwd_input == \"john123\":\n",
    "        print(\"Login successfull.........\")\n",
    "    else:\n",
    "        print(\"Password is incorrect!!\")\n",
    "else:\n",
    "    print(\"username is incorrect!!!\")"
   ]
  },
  {
   "cell_type": "markdown",
   "id": "d4107d88",
   "metadata": {},
   "source": [
    "# Loop (While & For)\n",
    "### While"
   ]
  },
  {
   "cell_type": "code",
   "execution_count": 31,
   "id": "8da89fec",
   "metadata": {
    "collapsed": true
   },
   "outputs": [
    {
     "name": "stdout",
     "output_type": "stream",
     "text": [
      "hii 1\n",
      "hii 2\n",
      "hii 3\n",
      "hii 4\n",
      "hii 5\n",
      "hii 6\n",
      "hii 7\n",
      "hii 8\n",
      "hii 9\n",
      "hii 10\n",
      "Program finished!\n"
     ]
    }
   ],
   "source": [
    "a =1 \n",
    "\n",
    "while a<=10: #T\n",
    "    print(\"hii\", a)\n",
    "    a = a+1\n",
    "else:\n",
    "    print(\"Program finished!\")"
   ]
  },
  {
   "cell_type": "code",
   "execution_count": 34,
   "id": "d150d272",
   "metadata": {
    "collapsed": true
   },
   "outputs": [
    {
     "name": "stdout",
     "output_type": "stream",
     "text": [
      "Hello 1\n",
      "Hello 2\n",
      "Hello 3\n",
      "Hello 4\n",
      "Hello 5\n",
      "Hello 6\n",
      "Hello 7\n",
      "Hello 8\n",
      "Hello 9\n",
      "Hello 10\n",
      "Hello 11\n",
      "Hello 12\n",
      "Hello 13\n",
      "Hello 14\n",
      "Hello 15\n",
      "Hello 16\n",
      "Hello 17\n",
      "Hello 18\n",
      "Hello 19\n",
      "Hello 20\n",
      "Hi 21\n",
      "Hi 22\n",
      "Hi 23\n",
      "Hi 24\n",
      "Hi 25\n",
      "Hi 26\n",
      "Hi 27\n",
      "Hi 28\n",
      "Hi 29\n",
      "Hi 30\n",
      "Hi 31\n",
      "Hi 32\n",
      "Hi 33\n",
      "Hi 34\n",
      "Hi 35\n",
      "Hi 36\n",
      "Hi 37\n",
      "Hi 38\n",
      "Hi 39\n",
      "Hi 40\n",
      "Hello 41\n",
      "Hello 42\n",
      "Hello 43\n",
      "Hello 44\n",
      "Hello 45\n",
      "Hello 46\n",
      "Hello 47\n",
      "Hello 48\n",
      "Hello 49\n",
      "Hello 50\n",
      "Hello 51\n",
      "Hello 52\n",
      "Hello 53\n",
      "Hello 54\n",
      "Hello 55\n",
      "Hello 56\n",
      "Hello 57\n",
      "Hello 58\n",
      "Hello 59\n",
      "Hello 60\n",
      "Hello 61\n",
      "Hello 62\n",
      "Hello 63\n",
      "Hello 64\n",
      "Hello 65\n",
      "Hello 66\n",
      "Hello 67\n",
      "Hello 68\n",
      "Hello 69\n",
      "Hello 70\n",
      "Hey 71\n",
      "Hey 72\n",
      "Hey 73\n",
      "Hey 74\n",
      "Hey 75\n",
      "Hey 76\n",
      "Hey 77\n",
      "Hey 78\n",
      "Hey 79\n",
      "Hey 80\n",
      "Hey 81\n",
      "Hey 82\n",
      "Hey 83\n",
      "Hey 84\n",
      "Hey 85\n",
      "Hey 86\n",
      "Hey 87\n",
      "Hey 88\n",
      "Hey 89\n",
      "Hey 90\n",
      "Hello 91\n",
      "Hello 92\n",
      "Hello 93\n",
      "Hello 94\n",
      "Hello 95\n",
      "Hello 96\n",
      "Hello 97\n",
      "Hello 98\n",
      "Hello 99\n",
      "Hello 100\n"
     ]
    }
   ],
   "source": [
    "a = 1\n",
    "\n",
    "while a<=100:\n",
    "    print(\"Hello\", a)\n",
    "    a = a+1\n",
    "    while a>20 and a<=40:\n",
    "        print(\"Hi\", a)\n",
    "        a = a+1\n",
    "    while a>70 and a<=90:\n",
    "        print(\"Hey\",a)\n",
    "        a = a+1"
   ]
  },
  {
   "cell_type": "code",
   "execution_count": 37,
   "id": "14faaa98",
   "metadata": {},
   "outputs": [
    {
     "name": "stdout",
     "output_type": "stream",
     "text": [
      "Please enter your username: kajsd\n",
      "username is incorrect!!!\n",
      "Please enter your username: hari\n",
      "Please enter your password: hari123\n",
      "Login successfull.......\n"
     ]
    }
   ],
   "source": [
    "while True:\n",
    "    user_input = input(\"Please enter your username: \")\n",
    "    if user_input == \"hari\":\n",
    "        passwd_input = input(\"Please enter your password: \")\n",
    "        if passwd_input== \"hari123\":\n",
    "            print(\"Login successfull.......\")\n",
    "            break\n",
    "        else:\n",
    "            print(\"password is incorrect!!\")\n",
    "    else:\n",
    "        print(\"username is incorrect!!!\")"
   ]
  },
  {
   "cell_type": "code",
   "execution_count": 45,
   "id": "9b98872e",
   "metadata": {},
   "outputs": [
    {
     "name": "stdout",
     "output_type": "stream",
     "text": [
      "Please enter your username: hari\n",
      "Please enter your password: hari123\n",
      "Login successfull.......\n"
     ]
    }
   ],
   "source": [
    "while True:\n",
    "    user_input = input(\"Please enter your username: \")\n",
    "    if user_input == \"hari\":\n",
    "        while True:\n",
    "            passwd_input = input(\"Please enter your password: \")\n",
    "            if passwd_input== \"hari123\":\n",
    "                print(\"Login successfull.......\")\n",
    "                break\n",
    "            else:\n",
    "                print(\"password is incorrect!!\")\n",
    "        break\n",
    "    else:\n",
    "        print(\"username is incorrect!!!\")"
   ]
  },
  {
   "cell_type": "markdown",
   "id": "19a49124",
   "metadata": {},
   "source": [
    "# For Loop"
   ]
  },
  {
   "cell_type": "code",
   "execution_count": 46,
   "id": "5704028f",
   "metadata": {},
   "outputs": [
    {
     "name": "stdout",
     "output_type": "stream",
     "text": [
      "1\n",
      "2\n",
      "3\n",
      "4\n",
      "5\n",
      "6\n",
      "7\n",
      "8\n",
      "9\n",
      "10\n"
     ]
    }
   ],
   "source": [
    "seq = range(1, 11)\n",
    "for var in seq:\n",
    "    print(var)"
   ]
  },
  {
   "cell_type": "code",
   "execution_count": 51,
   "id": "95328573",
   "metadata": {},
   "outputs": [
    {
     "name": "stdout",
     "output_type": "stream",
     "text": [
      "10\n",
      "12\n",
      "14\n",
      "16\n",
      "18\n",
      "20\n",
      "22\n",
      "24\n"
     ]
    }
   ],
   "source": [
    "for i in range(10,26, 2):\n",
    "    print(i)"
   ]
  },
  {
   "cell_type": "code",
   "execution_count": 55,
   "id": "5486096b",
   "metadata": {},
   "outputs": [
    {
     "name": "stdout",
     "output_type": "stream",
     "text": [
      "10\n",
      "9\n",
      "8\n",
      "7\n",
      "6\n",
      "5\n",
      "4\n",
      "3\n",
      "2\n"
     ]
    }
   ],
   "source": [
    "for i in range(10, 1, -1):\n",
    "    print(i)"
   ]
  },
  {
   "cell_type": "code",
   "execution_count": 56,
   "id": "1393f8c7",
   "metadata": {},
   "outputs": [
    {
     "name": "stdout",
     "output_type": "stream",
     "text": [
      "I\n",
      "n\n",
      "d\n",
      "i\n",
      "a\n"
     ]
    }
   ],
   "source": [
    "a = \"India\"\n",
    "for v in a:\n",
    "    print(v)"
   ]
  },
  {
   "cell_type": "code",
   "execution_count": 57,
   "id": "17b14283",
   "metadata": {},
   "outputs": [
    {
     "name": "stdout",
     "output_type": "stream",
     "text": [
      "3\n",
      "5\n",
      "6\n",
      "HI\n",
      "5\n",
      "65\n",
      "8\n",
      "98\n"
     ]
    }
   ],
   "source": [
    "ls = [3,5,6,\"HI\",5,65,8,98]\n",
    "for v in ls:\n",
    "    print(v)"
   ]
  },
  {
   "cell_type": "code",
   "execution_count": 59,
   "id": "6257ce70",
   "metadata": {},
   "outputs": [],
   "source": [
    "ls = list(range(1, 11))"
   ]
  },
  {
   "cell_type": "code",
   "execution_count": 62,
   "id": "0d406127",
   "metadata": {},
   "outputs": [
    {
     "name": "stdout",
     "output_type": "stream",
     "text": [
      "1\n",
      "4\n",
      "9\n",
      "16\n",
      "25\n",
      "36\n",
      "49\n",
      "64\n",
      "81\n",
      "100\n"
     ]
    }
   ],
   "source": [
    "for each in ls:\n",
    "    print(each**2)"
   ]
  },
  {
   "cell_type": "markdown",
   "id": "f8e5dfbc",
   "metadata": {},
   "source": [
    "### List comprehension\n",
    "\n",
    "[var for var in seq]"
   ]
  },
  {
   "cell_type": "code",
   "execution_count": 65,
   "id": "8d42d723",
   "metadata": {},
   "outputs": [
    {
     "data": {
      "text/plain": [
       "[1, 4, 9, 16, 25, 36, 49, 64, 81, 100]"
      ]
     },
     "execution_count": 65,
     "metadata": {},
     "output_type": "execute_result"
    }
   ],
   "source": [
    "[each**2 for each in ls]"
   ]
  },
  {
   "cell_type": "markdown",
   "id": "365a082a",
   "metadata": {},
   "source": [
    "### Pattern "
   ]
  },
  {
   "cell_type": "code",
   "execution_count": 71,
   "id": "bef38bc5",
   "metadata": {},
   "outputs": [
    {
     "name": "stdout",
     "output_type": "stream",
     "text": [
      "* \n",
      "* * \n",
      "* * * \n",
      "* * * * \n"
     ]
    }
   ],
   "source": [
    "for row in range(4):\n",
    "    for col in range(row+1):\n",
    "        print(\"*\", end = \" \")\n",
    "    print()"
   ]
  },
  {
   "cell_type": "code",
   "execution_count": null,
   "id": "91df8096",
   "metadata": {},
   "outputs": [],
   "source": []
  },
  {
   "cell_type": "code",
   "execution_count": null,
   "id": "16e8be49",
   "metadata": {},
   "outputs": [],
   "source": []
  },
  {
   "cell_type": "code",
   "execution_count": null,
   "id": "cd2660c9",
   "metadata": {},
   "outputs": [],
   "source": []
  },
  {
   "cell_type": "markdown",
   "id": "5a54ff57",
   "metadata": {},
   "source": [
    "# Apply count block if username and password is faild in 3 times"
   ]
  },
  {
   "cell_type": "code",
   "execution_count": 77,
   "id": "86cde947",
   "metadata": {},
   "outputs": [],
   "source": [
    "import time"
   ]
  },
  {
   "cell_type": "code",
   "execution_count": 79,
   "id": "cacbaa5a",
   "metadata": {},
   "outputs": [
    {
     "name": "stdout",
     "output_type": "stream",
     "text": [
      "Please enter your username: jkahsfi\n",
      "username is incorrect!!, only 2 attempts are remaining\n",
      "Please enter your username: jhdf\n",
      "username is incorrect!!, only 1 attempts are remaining\n",
      "Please enter your username: jaskl\n",
      "username is incorrect!!, only 0 attempts are remaining\n",
      "Please enter your username: hari\n",
      "Please enter your password: jkahskfdj\n",
      "Please wait for 10 sec\n",
      "Please enter your password: ahsjf\n",
      "password is incorrect!!, only 2 attempts are remaining\n",
      "Please enter your password: jkajsd\n",
      "password is incorrect!!, only 1 attempts are remaining\n",
      "Please enter your password: hari123\n",
      "Login successfull.......\n"
     ]
    }
   ],
   "source": [
    "count = 3\n",
    "while True:\n",
    "    user_input = input(\"Please enter your username: \")\n",
    "    if user_input == \"hari\":\n",
    "        while True:\n",
    "            passwd_input = input(\"Please enter your password: \")\n",
    "            if passwd_input== \"hari123\":\n",
    "                print(\"Login successfull.......\")\n",
    "                break\n",
    "            elif count==0:\n",
    "                print(\"Please wait for 10 sec\")\n",
    "                time.sleep(10)\n",
    "                count=3\n",
    "            else:\n",
    "                count = count-1\n",
    "                print(f\"password is incorrect!!, only {count} attempts are remaining\")\n",
    "        break\n",
    "    elif count==0:\n",
    "        print(\"Please wait for 10 sec\")\n",
    "        time.sleep(10)\n",
    "        count=3\n",
    "    else:\n",
    "        count = count-1\n",
    "        print(f\"username is incorrect!!, only {count} attempts are remaining\")"
   ]
  },
  {
   "cell_type": "code",
   "execution_count": null,
   "id": "0c9fa37e",
   "metadata": {},
   "outputs": [],
   "source": []
  }
 ],
 "metadata": {
  "kernelspec": {
   "display_name": "Python 3 (ipykernel)",
   "language": "python",
   "name": "python3"
  },
  "language_info": {
   "codemirror_mode": {
    "name": "ipython",
    "version": 3
   },
   "file_extension": ".py",
   "mimetype": "text/x-python",
   "name": "python",
   "nbconvert_exporter": "python",
   "pygments_lexer": "ipython3",
   "version": "3.9.12"
  }
 },
 "nbformat": 4,
 "nbformat_minor": 5
}
