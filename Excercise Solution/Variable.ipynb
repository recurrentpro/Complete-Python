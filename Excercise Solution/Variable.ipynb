{
 "cells": [
  {
   "cell_type": "markdown",
   "id": "88db94c9",
   "metadata": {},
   "source": [
    "# Python Function\n",
    "https://docs.python.org/3.9/library/functions.html"
   ]
  },
  {
   "cell_type": "markdown",
   "id": "13a3c525",
   "metadata": {},
   "source": [
    "# Invalid Variable\n",
    "\n",
    "first-name\n",
    "\n",
    "first@name\n",
    "\n",
    "first$name\n",
    "\n",
    "num-1\n",
    "\n",
    "1num"
   ]
  },
  {
   "cell_type": "markdown",
   "id": "56e46cb0",
   "metadata": {},
   "source": [
    "# Creating Variables"
   ]
  },
  {
   "cell_type": "code",
   "execution_count": 3,
   "id": "7468ad86",
   "metadata": {},
   "outputs": [
    {
     "name": "stdout",
     "output_type": "stream",
     "text": [
      "6\n",
      "Peter\n"
     ]
    }
   ],
   "source": [
    "x = 6\n",
    "y = \"Peter\"\n",
    "print(x)\n",
    "print(y)"
   ]
  },
  {
   "cell_type": "markdown",
   "id": "66ab2615",
   "metadata": {},
   "source": [
    "# Type Casting"
   ]
  },
  {
   "cell_type": "code",
   "execution_count": 4,
   "id": "4e40acdc",
   "metadata": {},
   "outputs": [],
   "source": [
    "x = str(3)    # x will be '3'\n",
    "y = int(3)    # y will be 3\n",
    "z = float(3)  # z will be 3.0"
   ]
  },
  {
   "cell_type": "markdown",
   "id": "f07faed0",
   "metadata": {},
   "source": [
    "# Get the Type"
   ]
  },
  {
   "cell_type": "code",
   "execution_count": 5,
   "id": "a3bcf945",
   "metadata": {},
   "outputs": [
    {
     "name": "stdout",
     "output_type": "stream",
     "text": [
      "<class 'int'>\n",
      "<class 'str'>\n"
     ]
    }
   ],
   "source": [
    "x = 5\n",
    "y = \"John\"\n",
    "print(type(x))\n",
    "print(type(y))"
   ]
  },
  {
   "cell_type": "markdown",
   "id": "cf1c5239",
   "metadata": {},
   "source": [
    "# Case-Sensitive"
   ]
  },
  {
   "cell_type": "code",
   "execution_count": 6,
   "id": "edff8893",
   "metadata": {},
   "outputs": [],
   "source": [
    "a = 4\n",
    "A = \"Sally\"\n",
    "#A will not overwrite a"
   ]
  },
  {
   "cell_type": "markdown",
   "id": "41d85558",
   "metadata": {},
   "source": [
    "# Multiple Assignment"
   ]
  },
  {
   "cell_type": "code",
   "execution_count": 7,
   "id": "ca40c8a1",
   "metadata": {},
   "outputs": [],
   "source": [
    "a = b = c = 1"
   ]
  },
  {
   "cell_type": "code",
   "execution_count": 8,
   "id": "daeb12ef",
   "metadata": {},
   "outputs": [],
   "source": [
    "a,b,c = 1,2,\"john\""
   ]
  },
  {
   "cell_type": "code",
   "execution_count": null,
   "id": "ea6e6bb1",
   "metadata": {},
   "outputs": [],
   "source": []
  },
  {
   "cell_type": "markdown",
   "id": "eefa88c9",
   "metadata": {},
   "source": [
    "# Standard Data Types \n",
    "Numbers\n",
    "\n",
    "String\n",
    "\n",
    "List\n",
    "\n",
    "Tuple\n",
    "\n",
    "Dictionary\n",
    "\n",
    "Set"
   ]
  },
  {
   "cell_type": "markdown",
   "id": "af84f962",
   "metadata": {},
   "source": [
    "# String"
   ]
  },
  {
   "cell_type": "code",
   "execution_count": 9,
   "id": "f1a563f5",
   "metadata": {},
   "outputs": [
    {
     "name": "stdout",
     "output_type": "stream",
     "text": [
      "Hello World!\n",
      "H\n",
      "llo\n"
     ]
    }
   ],
   "source": [
    "a = 'Hello World!'\n",
    "\n",
    "print(a)       # Prints complete string\n",
    "print(a[0])       # Prints first character of the string\n",
    "print(a[2:5])     # Prints characters starting from 3rd to 5th"
   ]
  },
  {
   "cell_type": "markdown",
   "id": "770936a0",
   "metadata": {},
   "source": [
    "# List"
   ]
  },
  {
   "cell_type": "code",
   "execution_count": 10,
   "id": "a02e08e8",
   "metadata": {},
   "outputs": [
    {
     "name": "stdout",
     "output_type": "stream",
     "text": [
      "['abcd', 786, 2.23, 'john', 70.2]\n",
      "abcd\n",
      "[786, 2.23]\n",
      "[2.23, 'john', 70.2]\n"
     ]
    }
   ],
   "source": [
    "list1 = [ 'abcd', 786 , 2.23, 'john', 70.2 ]\n",
    "\n",
    "\n",
    "print(list1)         # Prints complete list\n",
    "print(list1[0])       # Prints first element of the list\n",
    "print(list1[1:3])     # Prints elements starting from 2nd till 3rd \n",
    "print(list1[2:])      # Prints elements starting from 3rd element"
   ]
  },
  {
   "cell_type": "markdown",
   "id": "e33384e2",
   "metadata": {},
   "source": [
    "# Tuple"
   ]
  },
  {
   "cell_type": "code",
   "execution_count": 11,
   "id": "6f0fdb6a",
   "metadata": {},
   "outputs": [
    {
     "name": "stdout",
     "output_type": "stream",
     "text": [
      "('abcd', 786, 2.23, 'john', 70.2)\n",
      "abcd\n",
      "(786, 2.23)\n",
      "(2.23, 'john', 70.2)\n"
     ]
    }
   ],
   "source": [
    "tuple1 = ( 'abcd', 786 , 2.23, 'john', 70.2  )\n",
    "\n",
    "\n",
    "print(tuple1)               # Prints the complete tuple\n",
    "print(tuple1[0])            # Prints first element of the tuple\n",
    "print(tuple1[1:3])          # Prints elements of the tuple starting from 2nd till 3rd \n",
    "print(tuple1[2:])"
   ]
  },
  {
   "cell_type": "markdown",
   "id": "d688cfd1",
   "metadata": {},
   "source": [
    "# Dictionary"
   ]
  },
  {
   "cell_type": "code",
   "execution_count": 12,
   "id": "a4fd2493",
   "metadata": {},
   "outputs": [
    {
     "name": "stdout",
     "output_type": "stream",
     "text": [
      "This is one\n",
      "This is two\n"
     ]
    }
   ],
   "source": [
    "dict1 = {}\n",
    "dict1['one'] = \"This is one\"\n",
    "dict1[2]     = \"This is two\"\n",
    "\n",
    "\n",
    "print(dict1['one'])       # Prints value for 'one' key\n",
    "print(dict1[2])    "
   ]
  },
  {
   "cell_type": "markdown",
   "id": "c6633188",
   "metadata": {},
   "source": [
    "# Set"
   ]
  },
  {
   "cell_type": "code",
   "execution_count": 13,
   "id": "cd7976c5",
   "metadata": {},
   "outputs": [
    {
     "name": "stdout",
     "output_type": "stream",
     "text": [
      "<class 'set'>\n",
      "{7.8, 5, 6, 7, 8, 'H'}\n"
     ]
    }
   ],
   "source": [
    "s = {5,6,7,8,7.8,\"H\"}\n",
    "\n",
    "print(type(s))\n",
    "print(s)"
   ]
  },
  {
   "cell_type": "markdown",
   "id": "93a97867",
   "metadata": {},
   "source": [
    "# Numeric"
   ]
  },
  {
   "cell_type": "code",
   "execution_count": null,
   "id": "905e47d2",
   "metadata": {},
   "outputs": [],
   "source": [
    "x = 1.0\n",
    "my_variable = 12.2"
   ]
  },
  {
   "cell_type": "code",
   "execution_count": null,
   "id": "ac74da80",
   "metadata": {},
   "outputs": [],
   "source": [
    "type(x)"
   ]
  },
  {
   "cell_type": "code",
   "execution_count": null,
   "id": "ac1833c0",
   "metadata": {},
   "outputs": [],
   "source": [
    "\n",
    "x = 1"
   ]
  },
  {
   "cell_type": "code",
   "execution_count": null,
   "id": "87e2e333",
   "metadata": {},
   "outputs": [],
   "source": [
    "x = 1\n",
    "type(x)"
   ]
  },
  {
   "cell_type": "code",
   "execution_count": 14,
   "id": "4e41de79",
   "metadata": {},
   "outputs": [
    {
     "data": {
      "text/plain": [
       "bool"
      ]
     },
     "execution_count": 14,
     "metadata": {},
     "output_type": "execute_result"
    }
   ],
   "source": [
    "# boolean\n",
    "b1 = True\n",
    "b2 = False\n",
    "\n",
    "type(b1)"
   ]
  },
  {
   "cell_type": "code",
   "execution_count": 15,
   "id": "70b9c96f",
   "metadata": {},
   "outputs": [
    {
     "data": {
      "text/plain": [
       "complex"
      ]
     },
     "execution_count": 15,
     "metadata": {},
     "output_type": "execute_result"
    }
   ],
   "source": [
    "# complex numbers: note the use of `j` to specify the imaginary part\n",
    "x = 1.0 - 1.0j\n",
    "type(x)"
   ]
  },
  {
   "cell_type": "code",
   "execution_count": 16,
   "id": "0a5afd6f",
   "metadata": {},
   "outputs": [
    {
     "data": {
      "text/plain": [
       "True"
      ]
     },
     "execution_count": 16,
     "metadata": {},
     "output_type": "execute_result"
    }
   ],
   "source": [
    "x = 1.0\n",
    "\n",
    "# check if the variable x is a float\n",
    "type(x) is float"
   ]
  },
  {
   "cell_type": "code",
   "execution_count": 17,
   "id": "db3aa056",
   "metadata": {},
   "outputs": [
    {
     "data": {
      "text/plain": [
       "True"
      ]
     },
     "execution_count": 17,
     "metadata": {},
     "output_type": "execute_result"
    }
   ],
   "source": [
    "isinstance(x, float)"
   ]
  },
  {
   "cell_type": "code",
   "execution_count": null,
   "id": "8dbc969a",
   "metadata": {},
   "outputs": [],
   "source": []
  }
 ],
 "metadata": {
  "kernelspec": {
   "display_name": "Python 3 (ipykernel)",
   "language": "python",
   "name": "python3"
  },
  "language_info": {
   "codemirror_mode": {
    "name": "ipython",
    "version": 3
   },
   "file_extension": ".py",
   "mimetype": "text/x-python",
   "name": "python",
   "nbconvert_exporter": "python",
   "pygments_lexer": "ipython3",
   "version": "3.11.5"
  }
 },
 "nbformat": 4,
 "nbformat_minor": 5
}
