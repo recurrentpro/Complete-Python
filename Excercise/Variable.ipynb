{
 "cells": [
  {
   "cell_type": "markdown",
   "id": "f540a383",
   "metadata": {},
   "source": [
    "# Python Function\n",
    "https://docs.python.org/3.9/library/functions.html"
   ]
  },
  {
   "cell_type": "markdown",
   "id": "3f9b213b",
   "metadata": {},
   "source": [
    "# Invalid Variable\n",
    "\n",
    "first-name\n",
    "\n",
    "first@name\n",
    "\n",
    "first$name\n",
    "\n",
    "num-1\n",
    "\n",
    "1num"
   ]
  },
  {
   "cell_type": "markdown",
   "id": "407ceb08",
   "metadata": {},
   "source": [
    "# Creating Variables"
   ]
  },
  {
   "cell_type": "code",
   "execution_count": null,
   "id": "373ca4ba",
   "metadata": {},
   "outputs": [],
   "source": [
    "x = 6\n",
    "y = \"Peter\"\n",
    "print(x)\n",
    "print(y)"
   ]
  },
  {
   "cell_type": "markdown",
   "id": "080e85ba",
   "metadata": {},
   "source": [
    "# Type Casting"
   ]
  },
  {
   "cell_type": "code",
   "execution_count": null,
   "id": "5ffe253c",
   "metadata": {},
   "outputs": [],
   "source": [
    "x = str(3)    # x will be '3'\n",
    "y = int(3)    # y will be 3\n",
    "z = float(3)  # z will be 3.0"
   ]
  },
  {
   "cell_type": "markdown",
   "id": "ac8a9ecf",
   "metadata": {},
   "source": [
    "# Get the Type"
   ]
  },
  {
   "cell_type": "code",
   "execution_count": null,
   "id": "6e866d95",
   "metadata": {},
   "outputs": [],
   "source": [
    "x = 5\n",
    "y = \"John\"\n",
    "print(type(x))\n",
    "print(type(y))"
   ]
  },
  {
   "cell_type": "markdown",
   "id": "19936f74",
   "metadata": {},
   "source": [
    "# Case-Sensitive"
   ]
  },
  {
   "cell_type": "code",
   "execution_count": null,
   "id": "91692e46",
   "metadata": {},
   "outputs": [],
   "source": [
    "a = 4\n",
    "A = \"Sally\"\n",
    "#A will not overwrite a"
   ]
  },
  {
   "cell_type": "markdown",
   "id": "5a35a04c",
   "metadata": {},
   "source": [
    "# Multiple Assignment"
   ]
  },
  {
   "cell_type": "code",
   "execution_count": null,
   "id": "6d2348a7",
   "metadata": {},
   "outputs": [],
   "source": [
    "a = b = c = 1"
   ]
  },
  {
   "cell_type": "code",
   "execution_count": null,
   "id": "c00ed7ee",
   "metadata": {},
   "outputs": [],
   "source": [
    "a,b,c = 1,2,\"john\""
   ]
  },
  {
   "cell_type": "code",
   "execution_count": null,
   "id": "e3c3c214",
   "metadata": {},
   "outputs": [],
   "source": []
  },
  {
   "cell_type": "markdown",
   "id": "de76d423",
   "metadata": {},
   "source": [
    "# Standard Data Types \n",
    "Numbers\n",
    "\n",
    "String\n",
    "\n",
    "List\n",
    "\n",
    "Tuple\n",
    "\n",
    "Dictionary\n",
    "\n",
    "Set"
   ]
  },
  {
   "cell_type": "markdown",
   "id": "caa2e4f8",
   "metadata": {},
   "source": [
    "# String"
   ]
  },
  {
   "cell_type": "code",
   "execution_count": null,
   "id": "2aef4090",
   "metadata": {},
   "outputs": [],
   "source": [
    "a = 'Hello World!'\n",
    "\n",
    "print(a)       # Prints complete string\n",
    "print(a[0])       # Prints first character of the string\n",
    "print(a[2:5])     # Prints characters starting from 3rd to 5th"
   ]
  },
  {
   "cell_type": "markdown",
   "id": "9a3ed00c",
   "metadata": {},
   "source": [
    "# List"
   ]
  },
  {
   "cell_type": "code",
   "execution_count": null,
   "id": "66aee3e1",
   "metadata": {},
   "outputs": [],
   "source": [
    "list1 = [ 'abcd', 786 , 2.23, 'john', 70.2 ]\n",
    "\n",
    "\n",
    "print(list1)         # Prints complete list\n",
    "print(list1[0])       # Prints first element of the list\n",
    "print(list1[1:3])     # Prints elements starting from 2nd till 3rd \n",
    "print(list1[2:])      # Prints elements starting from 3rd element"
   ]
  },
  {
   "cell_type": "markdown",
   "id": "858e1a4d",
   "metadata": {},
   "source": [
    "# Tuple"
   ]
  },
  {
   "cell_type": "code",
   "execution_count": null,
   "id": "b38b4c89",
   "metadata": {},
   "outputs": [],
   "source": [
    "tuple1 = ( 'abcd', 786 , 2.23, 'john', 70.2  )\n",
    "\n",
    "\n",
    "print(tuple1)               # Prints the complete tuple\n",
    "print(tuple1[0])            # Prints first element of the tuple\n",
    "print(tuple1[1:3])          # Prints elements of the tuple starting from 2nd till 3rd \n",
    "print(tuple1[2:])"
   ]
  },
  {
   "cell_type": "markdown",
   "id": "fe4dfad3",
   "metadata": {},
   "source": [
    "# Dictionary"
   ]
  },
  {
   "cell_type": "code",
   "execution_count": null,
   "id": "77b8cf6a",
   "metadata": {},
   "outputs": [],
   "source": [
    "dict1 = {}\n",
    "dict1['one'] = \"This is one\"\n",
    "dict1[2]     = \"This is two\"\n",
    "\n",
    "\n",
    "print(dict1['one'])       # Prints value for 'one' key\n",
    "print(dict1[2])    "
   ]
  },
  {
   "cell_type": "markdown",
   "id": "b0990f6c",
   "metadata": {},
   "source": [
    "# Set"
   ]
  },
  {
   "cell_type": "code",
   "execution_count": null,
   "id": "e35aefeb",
   "metadata": {},
   "outputs": [],
   "source": [
    "s = {5,6,7,8,7.8,\"H\"}\n",
    "\n",
    "print(type(s))\n",
    "print(s)"
   ]
  },
  {
   "cell_type": "markdown",
   "id": "e403dc45",
   "metadata": {},
   "source": [
    "# Numeric"
   ]
  },
  {
   "cell_type": "code",
   "execution_count": null,
   "id": "94647d0a",
   "metadata": {},
   "outputs": [],
   "source": [
    "x = 1.0\n",
    "my_variable = 12.2"
   ]
  },
  {
   "cell_type": "code",
   "execution_count": null,
   "id": "66dc4e03",
   "metadata": {},
   "outputs": [],
   "source": [
    "type(x)"
   ]
  },
  {
   "cell_type": "code",
   "execution_count": null,
   "id": "6cc30860",
   "metadata": {},
   "outputs": [],
   "source": [
    "\n",
    "x = 1"
   ]
  },
  {
   "cell_type": "code",
   "execution_count": null,
   "id": "68a9f472",
   "metadata": {},
   "outputs": [],
   "source": [
    "x = 1\n",
    "type(x)"
   ]
  },
  {
   "cell_type": "code",
   "execution_count": null,
   "id": "c804b04c",
   "metadata": {},
   "outputs": [],
   "source": [
    "# boolean\n",
    "b1 = True\n",
    "b2 = False\n",
    "\n",
    "type(b1)"
   ]
  },
  {
   "cell_type": "code",
   "execution_count": null,
   "id": "c82aa51a",
   "metadata": {},
   "outputs": [],
   "source": [
    "# complex numbers: note the use of `j` to specify the imaginary part\n",
    "x = 1.0 - 1.0j\n",
    "type(x)"
   ]
  },
  {
   "cell_type": "code",
   "execution_count": null,
   "id": "f001b2ae",
   "metadata": {},
   "outputs": [],
   "source": [
    "x = 1.0\n",
    "\n",
    "# check if the variable x is a float\n",
    "type(x) is float"
   ]
  },
  {
   "cell_type": "code",
   "execution_count": null,
   "id": "27f2e0e9",
   "metadata": {},
   "outputs": [],
   "source": [
    "isinstance(x, float)"
   ]
  },
  {
   "cell_type": "code",
   "execution_count": null,
   "id": "0553d432",
   "metadata": {},
   "outputs": [],
   "source": []
  }
 ],
 "metadata": {
  "kernelspec": {
   "display_name": "Python 3 (ipykernel)",
   "language": "python",
   "name": "python3"
  },
  "language_info": {
   "codemirror_mode": {
    "name": "ipython",
    "version": 3
   },
   "file_extension": ".py",
   "mimetype": "text/x-python",
   "name": "python",
   "nbconvert_exporter": "python",
   "pygments_lexer": "ipython3",
   "version": "3.11.5"
  }
 },
 "nbformat": 4,
 "nbformat_minor": 5
}
