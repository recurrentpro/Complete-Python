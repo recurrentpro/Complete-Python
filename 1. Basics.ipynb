{
 "cells": [
  {
   "cell_type": "markdown",
   "id": "9520c970",
   "metadata": {},
   "source": [
    "# Variable"
   ]
  },
  {
   "cell_type": "code",
   "execution_count": 2,
   "id": "41d00321",
   "metadata": {},
   "outputs": [
    {
     "data": {
      "text/plain": [
       "str"
      ]
     },
     "execution_count": 2,
     "metadata": {},
     "output_type": "execute_result"
    }
   ],
   "source": [
    "a = \"Hello\"\n",
    "type(a)"
   ]
  },
  {
   "cell_type": "code",
   "execution_count": 3,
   "id": "90be902f",
   "metadata": {},
   "outputs": [
    {
     "data": {
      "text/plain": [
       "int"
      ]
     },
     "execution_count": 3,
     "metadata": {},
     "output_type": "execute_result"
    }
   ],
   "source": [
    "b = 15\n",
    "type(b)"
   ]
  },
  {
   "cell_type": "code",
   "execution_count": 4,
   "id": "8c6ba393",
   "metadata": {},
   "outputs": [
    {
     "data": {
      "text/plain": [
       "2957579984624"
      ]
     },
     "execution_count": 4,
     "metadata": {},
     "output_type": "execute_result"
    }
   ],
   "source": [
    "id(a)"
   ]
  },
  {
   "cell_type": "code",
   "execution_count": 5,
   "id": "268c7939",
   "metadata": {},
   "outputs": [
    {
     "data": {
      "text/plain": [
       "2957498385072"
      ]
     },
     "execution_count": 5,
     "metadata": {},
     "output_type": "execute_result"
    }
   ],
   "source": [
    "id(b)"
   ]
  },
  {
   "cell_type": "code",
   "execution_count": 6,
   "id": "573457e9",
   "metadata": {},
   "outputs": [],
   "source": [
    "c = 19"
   ]
  },
  {
   "cell_type": "code",
   "execution_count": 9,
   "id": "7d592680",
   "metadata": {},
   "outputs": [
    {
     "data": {
      "text/plain": [
       "2957498385200"
      ]
     },
     "execution_count": 9,
     "metadata": {},
     "output_type": "execute_result"
    }
   ],
   "source": [
    "id(c)\n"
   ]
  },
  {
   "cell_type": "code",
   "execution_count": 10,
   "id": "6456e07c",
   "metadata": {},
   "outputs": [
    {
     "data": {
      "text/plain": [
       "2957498385072"
      ]
     },
     "execution_count": 10,
     "metadata": {},
     "output_type": "execute_result"
    }
   ],
   "source": [
    "id(b)"
   ]
  },
  {
   "cell_type": "code",
   "execution_count": 11,
   "id": "bc0c4225",
   "metadata": {},
   "outputs": [
    {
     "data": {
      "text/plain": [
       "2957579674928"
      ]
     },
     "execution_count": 11,
     "metadata": {},
     "output_type": "execute_result"
    }
   ],
   "source": [
    "d = 19.8\n",
    "id(d)"
   ]
  },
  {
   "cell_type": "code",
   "execution_count": 12,
   "id": "c41a10fb",
   "metadata": {},
   "outputs": [
    {
     "data": {
      "text/plain": [
       "float"
      ]
     },
     "execution_count": 12,
     "metadata": {},
     "output_type": "execute_result"
    }
   ],
   "source": [
    "type(d)"
   ]
  },
  {
   "cell_type": "code",
   "execution_count": null,
   "id": "58aed78a",
   "metadata": {},
   "outputs": [],
   "source": []
  },
  {
   "cell_type": "markdown",
   "id": "3b26c38c",
   "metadata": {},
   "source": [
    "# Data Types"
   ]
  },
  {
   "cell_type": "code",
   "execution_count": null,
   "id": "a390de4c",
   "metadata": {},
   "outputs": [],
   "source": [
    "a = \"Hello\" #String\n",
    "b = [4,5,6,76,788] #list\n",
    "c = (5,6,7,7,8,9) #Tuple\n",
    "d = {5,6,76,7,89} #set\n",
    "e = {4:7,9:8} #Dict"
   ]
  },
  {
   "cell_type": "markdown",
   "id": "931967ad",
   "metadata": {},
   "source": [
    "# Keywords"
   ]
  },
  {
   "cell_type": "markdown",
   "id": "370fddd0",
   "metadata": {},
   "source": [
    "Keyword is reserved word which used for only specific purpose can't be use as a identifier\n",
    "\n",
    "**Identifier**\n",
    "\n",
    "variable name, function name, class name"
   ]
  },
  {
   "cell_type": "code",
   "execution_count": 14,
   "id": "e4cc013f",
   "metadata": {},
   "outputs": [],
   "source": [
    "a = 8"
   ]
  },
  {
   "cell_type": "code",
   "execution_count": 15,
   "id": "31b0e7fc",
   "metadata": {},
   "outputs": [
    {
     "ename": "SyntaxError",
     "evalue": "invalid syntax (932403373.py, line 1)",
     "output_type": "error",
     "traceback": [
      "\u001b[1;36m  Input \u001b[1;32mIn [15]\u001b[1;36m\u001b[0m\n\u001b[1;33m    if = 8\u001b[0m\n\u001b[1;37m       ^\u001b[0m\n\u001b[1;31mSyntaxError\u001b[0m\u001b[1;31m:\u001b[0m invalid syntax\n"
     ]
    }
   ],
   "source": [
    "if = 8"
   ]
  },
  {
   "cell_type": "code",
   "execution_count": 13,
   "id": "4158707f",
   "metadata": {
    "collapsed": true
   },
   "outputs": [
    {
     "data": {
      "text/plain": [
       "['False',\n",
       " 'None',\n",
       " 'True',\n",
       " 'and',\n",
       " 'as',\n",
       " 'assert',\n",
       " 'async',\n",
       " 'await',\n",
       " 'break',\n",
       " 'class',\n",
       " 'continue',\n",
       " 'def',\n",
       " 'del',\n",
       " 'elif',\n",
       " 'else',\n",
       " 'except',\n",
       " 'finally',\n",
       " 'for',\n",
       " 'from',\n",
       " 'global',\n",
       " 'if',\n",
       " 'import',\n",
       " 'in',\n",
       " 'is',\n",
       " 'lambda',\n",
       " 'nonlocal',\n",
       " 'not',\n",
       " 'or',\n",
       " 'pass',\n",
       " 'raise',\n",
       " 'return',\n",
       " 'try',\n",
       " 'while',\n",
       " 'with',\n",
       " 'yield']"
      ]
     },
     "execution_count": 13,
     "metadata": {},
     "output_type": "execute_result"
    }
   ],
   "source": [
    "import keyword\n",
    "keyword.kwlist"
   ]
  },
  {
   "cell_type": "code",
   "execution_count": 16,
   "id": "46ad43e4",
   "metadata": {},
   "outputs": [
    {
     "data": {
      "text/plain": [
       "35"
      ]
     },
     "execution_count": 16,
     "metadata": {},
     "output_type": "execute_result"
    }
   ],
   "source": [
    "len(keyword.kwlist)"
   ]
  },
  {
   "cell_type": "markdown",
   "id": "ae2145ce",
   "metadata": {},
   "source": [
    "# Indentation"
   ]
  },
  {
   "cell_type": "code",
   "execution_count": null,
   "id": "8c85518f",
   "metadata": {},
   "outputs": [],
   "source": [
    "a = 9\n",
    "b = 8\n",
    "\n",
    "if a>b:\n",
    "    print(\"Hello\")\n",
    "    print(\"Hi\")\n",
    "    print(\"Hey\")\n",
    "    \n",
    "print(\"Bye\")"
   ]
  },
  {
   "cell_type": "markdown",
   "id": "4244151d",
   "metadata": {},
   "source": [
    "# Comment"
   ]
  },
  {
   "cell_type": "code",
   "execution_count": 18,
   "id": "a7ad129d",
   "metadata": {},
   "outputs": [],
   "source": [
    "#print(\"Hello world\")\n",
    "\n"
   ]
  },
  {
   "cell_type": "code",
   "execution_count": 20,
   "id": "d5dde0c1",
   "metadata": {},
   "outputs": [
    {
     "data": {
      "text/plain": [
       "' = 9\\nb = 8\\n\\nif a>b:\\n    print(\"Hello\")\\n    print(\"Hi\")\\n    print(\"Hey\")\\n    \\nprint(\"Bye\")'"
      ]
     },
     "execution_count": 20,
     "metadata": {},
     "output_type": "execute_result"
    }
   ],
   "source": [
    "''' = 9\n",
    "b = 8\n",
    "\n",
    "if a>b:\n",
    "    print(\"Hello\")\n",
    "    print(\"Hi\")\n",
    "    print(\"Hey\")\n",
    "    \n",
    "print(\"Bye\")'''"
   ]
  },
  {
   "cell_type": "code",
   "execution_count": 21,
   "id": "21dd9b43",
   "metadata": {},
   "outputs": [
    {
     "data": {
      "text/plain": [
       "' = 9\\nb = 8\\n\\nif a>b:\\n    print(\"Hello\")\\n    print(\"Hi\")\\n    print(\"Hey\")\\n    \\nprint(\"Bye\")'"
      ]
     },
     "execution_count": 21,
     "metadata": {},
     "output_type": "execute_result"
    }
   ],
   "source": [
    "\"\"\" = 9\n",
    "b = 8\n",
    "\n",
    "if a>b:\n",
    "    print(\"Hello\")\n",
    "    print(\"Hi\")\n",
    "    print(\"Hey\")\n",
    "    \n",
    "print(\"Bye\")\"\"\""
   ]
  },
  {
   "cell_type": "markdown",
   "id": "b0ca0988",
   "metadata": {},
   "source": [
    "# Input & Output Function"
   ]
  },
  {
   "cell_type": "code",
   "execution_count": null,
   "id": "640fdd62",
   "metadata": {},
   "outputs": [],
   "source": [
    "# y = 3x+5"
   ]
  },
  {
   "cell_type": "code",
   "execution_count": 27,
   "id": "3fbc1e07",
   "metadata": {},
   "outputs": [
    {
     "name": "stdout",
     "output_type": "stream",
     "text": [
      "Enter the value of x: 4\n",
      "Result is  17\n"
     ]
    }
   ],
   "source": [
    "x = int(input(\"Enter the value of x: \")) #input\n",
    "y = 3*x+5\n",
    "print(\"Result is \",y) #output"
   ]
  },
  {
   "cell_type": "code",
   "execution_count": 28,
   "id": "87e003f1",
   "metadata": {},
   "outputs": [
    {
     "data": {
      "text/plain": [
       "int"
      ]
     },
     "execution_count": 28,
     "metadata": {},
     "output_type": "execute_result"
    }
   ],
   "source": [
    "type(x)"
   ]
  },
  {
   "cell_type": "markdown",
   "id": "fde2eec6",
   "metadata": {},
   "source": [
    "# Exercise"
   ]
  },
  {
   "cell_type": "raw",
   "id": "7f98c0db",
   "metadata": {},
   "source": []
  }
 ],
 "metadata": {
  "kernelspec": {
   "display_name": "Python 3 (ipykernel)",
   "language": "python",
   "name": "python3"
  },
  "language_info": {
   "codemirror_mode": {
    "name": "ipython",
    "version": 3
   },
   "file_extension": ".py",
   "mimetype": "text/x-python",
   "name": "python",
   "nbconvert_exporter": "python",
   "pygments_lexer": "ipython3",
   "version": "3.11.5"
  }
 },
 "nbformat": 4,
 "nbformat_minor": 5
}
