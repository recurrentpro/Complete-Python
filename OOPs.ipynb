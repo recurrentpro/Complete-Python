{
 "cells": [
  {
   "cell_type": "code",
   "execution_count": null,
   "id": "92b98385",
   "metadata": {},
   "outputs": [],
   "source": [
    "class car: #class\n",
    "    def door(self): #method\n",
    "        self.door = 4\n",
    "        print(f\"This car have {self.door} doors\")\n",
    "    def engine(self):\n",
    "        print(\"this car have very powerfull engine\")\n",
    "    def seat(self):\n",
    "        self.seat = 5\n",
    "        print(f\"this car have {self.seat} seat and doors are {self.door}\")\n",
    "        \n",
    "        \n",
    "bmw = car() #bmw: object calling\n",
    "bmw.door()\n",
    "bmw.seat()\n",
    "\n",
    "\n"
   ]
  },
  {
   "cell_type": "code",
   "execution_count": null,
   "id": "3d4abef4",
   "metadata": {},
   "outputs": [],
   "source": [
    "#When we are defining the function inside the class, we are calling method"
   ]
  },
  {
   "cell_type": "code",
   "execution_count": null,
   "id": "5aa83f00",
   "metadata": {},
   "outputs": [],
   "source": [
    "class A:\n",
    "    def great(self):\n",
    "        pass"
   ]
  },
  {
   "cell_type": "code",
   "execution_count": null,
   "id": "1b638f6e",
   "metadata": {},
   "outputs": [],
   "source": []
  },
  {
   "cell_type": "code",
   "execution_count": null,
   "id": "b48e8a0e",
   "metadata": {},
   "outputs": [],
   "source": []
  },
  {
   "cell_type": "code",
   "execution_count": null,
   "id": "71206502",
   "metadata": {},
   "outputs": [],
   "source": [
    "a = 15\n",
    "b = \"Hello\""
   ]
  },
  {
   "cell_type": "code",
   "execution_count": null,
   "id": "b1a908d8",
   "metadata": {},
   "outputs": [],
   "source": [
    "print(type(a))"
   ]
  },
  {
   "cell_type": "code",
   "execution_count": null,
   "id": "0178dc35",
   "metadata": {},
   "outputs": [],
   "source": [
    "dir(a)"
   ]
  },
  {
   "cell_type": "code",
   "execution_count": null,
   "id": "c99abe28",
   "metadata": {},
   "outputs": [],
   "source": [
    "dir(b)"
   ]
  },
  {
   "cell_type": "code",
   "execution_count": null,
   "id": "3878a581",
   "metadata": {},
   "outputs": [],
   "source": [
    "b.upper()"
   ]
  },
  {
   "cell_type": "markdown",
   "id": "db942a24",
   "metadata": {},
   "source": [
    "# Inheritence"
   ]
  },
  {
   "cell_type": "code",
   "execution_count": null,
   "id": "77878b21",
   "metadata": {},
   "outputs": [],
   "source": [
    "#Single Inheritence\n",
    "class father:\n",
    "    def car(self, model):\n",
    "        print(\"Father have car: \", model)\n",
    "        \n",
    "class child(father):\n",
    "    def bike(self, model):\n",
    "        print(\"I have a bike: \", model)\n",
    "        \n",
    "rahul = child()\n",
    "rahul.bike(\"FZ\")\n",
    "rahul.car(\"Maruti\")"
   ]
  },
  {
   "cell_type": "markdown",
   "id": "8e6c3257",
   "metadata": {},
   "source": [
    "# Hybrid inheritnance"
   ]
  },
  {
   "cell_type": "code",
   "execution_count": null,
   "id": "c3bd062f",
   "metadata": {},
   "outputs": [],
   "source": [
    "#Multiple Inheritence & Heirachical Inheritance\n",
    "\n",
    "class properties:\n",
    "    def land_square(self):\n",
    "        print(\"We have 5 acr property in india\")\n",
    "    \n",
    "    \n",
    "class father(properties):\n",
    "    def car(self, model):\n",
    "        print(\"Father have car: \", model)\n",
    "        \n",
    "class mother(properties):\n",
    "    def scooty(self):\n",
    "        print(\"Mother have scooty\")\n",
    "        \n",
    "class child(father, mother):\n",
    "    def bike(self, model):\n",
    "        print(\"I have a bike: \", model)\n",
    "        \n",
    "rahul = child()\n",
    "rahul.car(\"FZ\")\n",
    "rahul.bike(\"Maruti\")\n",
    "rahul.scooty()\n",
    "rahul.land_square()"
   ]
  },
  {
   "cell_type": "code",
   "execution_count": null,
   "id": "724afee2",
   "metadata": {},
   "outputs": [],
   "source": [
    "f = father()\n",
    "f.land_square()"
   ]
  },
  {
   "cell_type": "code",
   "execution_count": null,
   "id": "bfe194e4",
   "metadata": {},
   "outputs": [],
   "source": [
    "#Multilevel inheritance"
   ]
  },
  {
   "cell_type": "markdown",
   "id": "f240bcc2",
   "metadata": {},
   "source": [
    "# Polymorphism"
   ]
  },
  {
   "cell_type": "code",
   "execution_count": null,
   "id": "3161f66b",
   "metadata": {},
   "outputs": [],
   "source": [
    "len(\"Hello\")"
   ]
  },
  {
   "cell_type": "code",
   "execution_count": null,
   "id": "80b3bb83",
   "metadata": {},
   "outputs": [],
   "source": [
    "len([4, 6, 7, 8])"
   ]
  },
  {
   "cell_type": "code",
   "execution_count": null,
   "id": "a83de6c4",
   "metadata": {},
   "outputs": [],
   "source": [
    "def add(x, y, z= 0):\n",
    "    return x+y+z"
   ]
  },
  {
   "cell_type": "code",
   "execution_count": null,
   "id": "d9e831e7",
   "metadata": {},
   "outputs": [],
   "source": [
    "add(4, 5)"
   ]
  },
  {
   "cell_type": "markdown",
   "id": "80383a14",
   "metadata": {},
   "source": [
    "# Method Overloading\n",
    "\n",
    "method name are same with different parameter"
   ]
  },
  {
   "cell_type": "code",
   "execution_count": null,
   "id": "70554013",
   "metadata": {},
   "outputs": [],
   "source": [
    "class calc:\n",
    "    def add(self, a):\n",
    "        return a\n",
    "    \n",
    "    def add(self, a, b): #Parameter\n",
    "        return a+b\n",
    "    \n",
    "    def add(self, a, b, c): #Run\n",
    "        return a+b+c"
   ]
  },
  {
   "cell_type": "code",
   "execution_count": null,
   "id": "91676a25",
   "metadata": {},
   "outputs": [],
   "source": [
    "c = calc()\n",
    "c.add(4, 5) #Arg"
   ]
  },
  {
   "cell_type": "code",
   "execution_count": null,
   "id": "c140d78d",
   "metadata": {},
   "outputs": [],
   "source": [
    "class calc:\n",
    "    def add(self, a=None, b=None, c=None):\n",
    "        if a!=None and b==None and c==None:\n",
    "            return a\n",
    "        elif a!=None and b!=None and c==None:\n",
    "            return a+b\n",
    "        elif a!=None and b!=None and c!=None:\n",
    "            return a+b+c\n",
    "        else:\n",
    "            print(\"None\")\n",
    "        \n",
    "c1 = calc()\n",
    "c1.add()"
   ]
  },
  {
   "cell_type": "markdown",
   "id": "40c70fae",
   "metadata": {},
   "source": [
    "# Method Overriding "
   ]
  },
  {
   "cell_type": "code",
   "execution_count": null,
   "id": "ee71be43",
   "metadata": {},
   "outputs": [],
   "source": [
    "class father:\n",
    "    def car(self):\n",
    "        print(\"Hey i have a car: BMW\")\n",
    "        \n",
    "class child(father):\n",
    "    def bike(self):\n",
    "        print('I have a sports bike: BMW')\n",
    "        \n",
    "    def car(self):\n",
    "        print(\"I have a my own car: Mercedes Benz\")\n",
    "        \n",
    "rahul = child()\n",
    "rahul.bike()\n",
    "rahul.car()"
   ]
  },
  {
   "cell_type": "markdown",
   "id": "16d4ea24",
   "metadata": {},
   "source": [
    "# Super function"
   ]
  },
  {
   "cell_type": "code",
   "execution_count": null,
   "id": "9c1d337b",
   "metadata": {},
   "outputs": [],
   "source": [
    "class father:\n",
    "    def __init__(self):\n",
    "        self.car = \"Maruti Suzuki\"\n",
    "    def car_info(self):\n",
    "        print(\"I have a car\", self.car)\n",
    "        \n",
    "        \n",
    "class child(father):\n",
    "    def __init__(self):\n",
    "        self.bike = \"Duke\"\n",
    "        super().__init__()\n",
    "        \n",
    "    def bike_info(self):\n",
    "        print(\"I have a bike\", self.bike)\n",
    "        \n",
    "    def car_info(self):\n",
    "        print(\"I have a car: \", \"BMW\")\n",
    "\n",
    "rahul = child()\n",
    "rahul.bike_info()\n",
    "rahul.car_info()\n",
    "print(rahul.bike)\n",
    "print(rahul.car)"
   ]
  },
  {
   "cell_type": "markdown",
   "id": "4de7d761",
   "metadata": {},
   "source": [
    "# Inner Class & Outer Class"
   ]
  },
  {
   "cell_type": "code",
   "execution_count": null,
   "id": "fd0d02eb",
   "metadata": {},
   "outputs": [],
   "source": [
    "class laptop: #Outer class\n",
    "    def __init__(self):\n",
    "        print(\"This is laptop class\")\n",
    "    class HP: #Inner class\n",
    "        def __init__(self):\n",
    "            print(\"This is HP class inside the laptop class\")\n",
    "            \n",
    "        def info(self):\n",
    "            print(\"Hey, this is info function\")\n",
    "            \n",
    "l = laptop()\n",
    "h = l.HP()\n",
    "h.info()"
   ]
  },
  {
   "cell_type": "code",
   "execution_count": null,
   "id": "4b425fca",
   "metadata": {},
   "outputs": [],
   "source": [
    "h = laptop().HP()\n",
    "h.info()"
   ]
  },
  {
   "cell_type": "markdown",
   "id": "b0006aab",
   "metadata": {},
   "source": [
    "# Instance Function, Class function, static function"
   ]
  },
  {
   "cell_type": "code",
   "execution_count": 1,
   "id": "964db2a0",
   "metadata": {},
   "outputs": [
    {
     "name": "stdout",
     "output_type": "stream",
     "text": [
      "Hey Hari\n",
      "College Name:  IIT-B\n",
      "My Student Id is:  12109\n",
      "Instance Variable:  Hari\n",
      "Class Variable:  IIT-B\n"
     ]
    }
   ],
   "source": [
    "class FirstClass:\n",
    "    \"\"\"\n",
    "    This class is made for defining instance function, class  function and static function\n",
    "    \"\"\"\n",
    "    college_name = \"IIT-B\" #Class Variable\n",
    "    def __init__(self):\n",
    "        self.name = \"Hari\" #Instatnce Variable\n",
    "        \n",
    "    def info1(self): #Instance Method\n",
    "        print(f\"Hey {self.name}\")\n",
    "        \n",
    "    @classmethod #decorator\n",
    "    def info2(cls): #Class Method\n",
    "        print(\"College Name: \", cls.college_name)\n",
    "        \n",
    "    @staticmethod\n",
    "    def info3(): #Static method\n",
    "        student_id = \"12109\" #Static Variable\n",
    "        print(\"My Student Id is: \", student_id)\n",
    "        \n",
    "fc = FirstClass()\n",
    "fc.info1()\n",
    "fc.info2()\n",
    "fc.info3()\n",
    "print(\"Instance Variable: \", fc.name)\n",
    "print(\"Class Variable: \", fc.college_name)\n",
    "# print(\"Static Variable: \", fc.student_id)"
   ]
  },
  {
   "cell_type": "code",
   "execution_count": null,
   "id": "8ee1962e",
   "metadata": {},
   "outputs": [],
   "source": []
  },
  {
   "cell_type": "markdown",
   "id": "bf74c290",
   "metadata": {},
   "source": [
    "# Access Attribute & Inbuild Class Attribute"
   ]
  },
  {
   "cell_type": "code",
   "execution_count": 3,
   "id": "9f0c2593",
   "metadata": {},
   "outputs": [
    {
     "data": {
      "text/plain": [
       "{'name': 'Hari'}"
      ]
     },
     "execution_count": 3,
     "metadata": {},
     "output_type": "execute_result"
    }
   ],
   "source": [
    "fc.__dict__"
   ]
  },
  {
   "cell_type": "code",
   "execution_count": 5,
   "id": "dfeaa795",
   "metadata": {},
   "outputs": [
    {
     "name": "stdout",
     "output_type": "stream",
     "text": [
      "\n",
      "    This class is made for defining instance function, class  function and static function\n",
      "    \n"
     ]
    }
   ],
   "source": [
    "print(fc.__doc__)"
   ]
  },
  {
   "cell_type": "code",
   "execution_count": 7,
   "id": "157b6e45",
   "metadata": {},
   "outputs": [
    {
     "data": {
      "text/plain": [
       "'__main__'"
      ]
     },
     "execution_count": 7,
     "metadata": {},
     "output_type": "execute_result"
    }
   ],
   "source": [
    "fc.__module__"
   ]
  },
  {
   "cell_type": "code",
   "execution_count": 8,
   "id": "ffd3d6db",
   "metadata": {},
   "outputs": [
    {
     "data": {
      "text/plain": [
       "__main__.FirstClass"
      ]
     },
     "execution_count": 8,
     "metadata": {},
     "output_type": "execute_result"
    }
   ],
   "source": [
    "fc.__class__"
   ]
  },
  {
   "cell_type": "code",
   "execution_count": 9,
   "id": "029e25fb",
   "metadata": {},
   "outputs": [
    {
     "data": {
      "text/plain": [
       "True"
      ]
     },
     "execution_count": 9,
     "metadata": {},
     "output_type": "execute_result"
    }
   ],
   "source": [
    "hasattr(fc, \"name\")"
   ]
  },
  {
   "cell_type": "code",
   "execution_count": 10,
   "id": "1d7dcb3f",
   "metadata": {},
   "outputs": [
    {
     "data": {
      "text/plain": [
       "'Hari'"
      ]
     },
     "execution_count": 10,
     "metadata": {},
     "output_type": "execute_result"
    }
   ],
   "source": [
    "getattr(fc, \"name\")"
   ]
  },
  {
   "cell_type": "code",
   "execution_count": 11,
   "id": "9daf7ef9",
   "metadata": {},
   "outputs": [],
   "source": [
    "setattr(fc, \"roll_no\", 121)"
   ]
  },
  {
   "cell_type": "code",
   "execution_count": 12,
   "id": "83fdc9c8",
   "metadata": {},
   "outputs": [
    {
     "data": {
      "text/plain": [
       "{'name': 'Hari', 'roll_no': 121}"
      ]
     },
     "execution_count": 12,
     "metadata": {},
     "output_type": "execute_result"
    }
   ],
   "source": [
    "fc.__dict__"
   ]
  },
  {
   "cell_type": "code",
   "execution_count": 14,
   "id": "364acae7",
   "metadata": {},
   "outputs": [],
   "source": [
    "delattr(fc, \"roll_no\")"
   ]
  },
  {
   "cell_type": "code",
   "execution_count": 15,
   "id": "6e47feed",
   "metadata": {},
   "outputs": [
    {
     "data": {
      "text/plain": [
       "{'name': 'Hari'}"
      ]
     },
     "execution_count": 15,
     "metadata": {},
     "output_type": "execute_result"
    }
   ],
   "source": [
    "fc.__dict__"
   ]
  },
  {
   "cell_type": "code",
   "execution_count": null,
   "id": "030f733e",
   "metadata": {},
   "outputs": [],
   "source": []
  },
  {
   "cell_type": "code",
   "execution_count": null,
   "id": "d4f0cba9",
   "metadata": {},
   "outputs": [],
   "source": []
  },
  {
   "cell_type": "code",
   "execution_count": null,
   "id": "4d11a472",
   "metadata": {},
   "outputs": [],
   "source": [
    "getattr(fc, \"name\")\n",
    "getattr(fc, \"college_name\")"
   ]
  },
  {
   "cell_type": "code",
   "execution_count": null,
   "id": "1ed0c933",
   "metadata": {},
   "outputs": [],
   "source": [
    "setattr(fc, \"roll_no\", 10134)"
   ]
  },
  {
   "cell_type": "markdown",
   "id": "c8c906dc",
   "metadata": {},
   "source": [
    "# Private Variable"
   ]
  },
  {
   "cell_type": "code",
   "execution_count": 29,
   "id": "222e7836",
   "metadata": {},
   "outputs": [
    {
     "name": "stdout",
     "output_type": "stream",
     "text": [
      "Rahul\n",
      "IIT00156\n"
     ]
    }
   ],
   "source": [
    "class College:\n",
    "    def __init__(self):\n",
    "        self.name = \"Rahul\" #Instance Variable\n",
    "        self.__college_id = \"IIT00156\" #Private Variable\n",
    "        \n",
    "c = College()\n",
    "# c.name\n",
    "print(c.name)\n",
    "print(c._College__college_id)"
   ]
  },
  {
   "cell_type": "code",
   "execution_count": 24,
   "id": "8177bae4",
   "metadata": {},
   "outputs": [],
   "source": [
    "__a = 5"
   ]
  },
  {
   "cell_type": "code",
   "execution_count": 25,
   "id": "3a56c51b",
   "metadata": {},
   "outputs": [
    {
     "name": "stdout",
     "output_type": "stream",
     "text": [
      "5\n"
     ]
    }
   ],
   "source": [
    "print(__a)"
   ]
  },
  {
   "cell_type": "markdown",
   "id": "eaa97408",
   "metadata": {},
   "source": [
    "# Data Abstraction"
   ]
  },
  {
   "cell_type": "code",
   "execution_count": 38,
   "id": "7d8b686c",
   "metadata": {},
   "outputs": [
    {
     "name": "stdout",
     "output_type": "stream",
     "text": [
      "Hi\n"
     ]
    }
   ],
   "source": [
    "from abc import ABC, abstractmethod\n",
    "class computer(ABC):\n",
    "    @abstractmethod\n",
    "    def processing(self):\n",
    "        print(\"this is computer class\")\n",
    "        \n",
    "        \n",
    "class laptop(computer):\n",
    "    def processing(self):\n",
    "        print(\"Hi\")\n",
    "        \n",
    "# c = computer()\n",
    "# c.processing()\n",
    "\n",
    "l = laptop()\n",
    "l.processing()"
   ]
  },
  {
   "cell_type": "code",
   "execution_count": null,
   "id": "27d3f5ab",
   "metadata": {},
   "outputs": [],
   "source": []
  }
 ],
 "metadata": {
  "kernelspec": {
   "display_name": "Python 3 (ipykernel)",
   "language": "python",
   "name": "python3"
  },
  "language_info": {
   "codemirror_mode": {
    "name": "ipython",
    "version": 3
   },
   "file_extension": ".py",
   "mimetype": "text/x-python",
   "name": "python",
   "nbconvert_exporter": "python",
   "pygments_lexer": "ipython3",
   "version": "3.11.5"
  }
 },
 "nbformat": 4,
 "nbformat_minor": 5
}
