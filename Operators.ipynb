{
 "cells": [
  {
   "cell_type": "markdown",
   "id": "c834fa8e",
   "metadata": {},
   "source": [
    "# https://www.w3schools.com/python/python_operators.asp"
   ]
  },
  {
   "cell_type": "markdown",
   "id": "23d6f9e5",
   "metadata": {},
   "source": [
    "# Arithmatic Operators\n",
    "\n",
    "+,-,*,**,/,%,//"
   ]
  },
  {
   "cell_type": "code",
   "execution_count": 1,
   "id": "9477204b",
   "metadata": {},
   "outputs": [
    {
     "data": {
      "text/plain": [
       "2.3333333333333335"
      ]
     },
     "execution_count": 1,
     "metadata": {},
     "output_type": "execute_result"
    }
   ],
   "source": [
    "7/3"
   ]
  },
  {
   "cell_type": "code",
   "execution_count": 2,
   "id": "8a2c91d1",
   "metadata": {},
   "outputs": [
    {
     "data": {
      "text/plain": [
       "1"
      ]
     },
     "execution_count": 2,
     "metadata": {},
     "output_type": "execute_result"
    }
   ],
   "source": [
    "7%3 #Reminder (Modulo)"
   ]
  },
  {
   "cell_type": "code",
   "execution_count": null,
   "id": "d4e4b4d2",
   "metadata": {},
   "outputs": [],
   "source": [
    "7/3"
   ]
  },
  {
   "cell_type": "code",
   "execution_count": null,
   "id": "bd2537f4",
   "metadata": {},
   "outputs": [],
   "source": [
    "7//3"
   ]
  },
  {
   "cell_type": "code",
   "execution_count": null,
   "id": "17680ce8",
   "metadata": {},
   "outputs": [],
   "source": [
    "import math\n",
    "math.ceil(7/3)"
   ]
  },
  {
   "cell_type": "code",
   "execution_count": null,
   "id": "36a11e5f",
   "metadata": {},
   "outputs": [],
   "source": [
    "round(7/3) #compare with 0.5"
   ]
  },
  {
   "cell_type": "code",
   "execution_count": null,
   "id": "d1090c1a",
   "metadata": {},
   "outputs": [],
   "source": [
    "-17//3"
   ]
  },
  {
   "cell_type": "code",
   "execution_count": null,
   "id": "d2fe3b8f",
   "metadata": {},
   "outputs": [],
   "source": [
    "round(-17/4)"
   ]
  },
  {
   "cell_type": "code",
   "execution_count": null,
   "id": "c57b00a6",
   "metadata": {},
   "outputs": [],
   "source": [
    "14/3\n"
   ]
  },
  {
   "cell_type": "code",
   "execution_count": null,
   "id": "8d0fed4f",
   "metadata": {},
   "outputs": [],
   "source": [
    "14//3"
   ]
  },
  {
   "cell_type": "code",
   "execution_count": null,
   "id": "8bc0272f",
   "metadata": {},
   "outputs": [],
   "source": [
    "math.ceil(14/3)"
   ]
  },
  {
   "cell_type": "markdown",
   "id": "11e6fc5a",
   "metadata": {},
   "source": [
    "# 2. Assignment Operators\n",
    "\n",
    "+=, -=,*=,/=,%=,//="
   ]
  },
  {
   "cell_type": "code",
   "execution_count": 3,
   "id": "f97f9f20",
   "metadata": {},
   "outputs": [],
   "source": [
    "a = 5\n",
    "b = 3\n",
    "\n"
   ]
  },
  {
   "cell_type": "code",
   "execution_count": 4,
   "id": "0cb400b8",
   "metadata": {},
   "outputs": [],
   "source": [
    "a = a+b"
   ]
  },
  {
   "cell_type": "code",
   "execution_count": 5,
   "id": "15676dd7",
   "metadata": {},
   "outputs": [
    {
     "data": {
      "text/plain": [
       "8"
      ]
     },
     "execution_count": 5,
     "metadata": {},
     "output_type": "execute_result"
    }
   ],
   "source": [
    "a "
   ]
  },
  {
   "cell_type": "code",
   "execution_count": 6,
   "id": "3b6028bb",
   "metadata": {},
   "outputs": [
    {
     "data": {
      "text/plain": [
       "3"
      ]
     },
     "execution_count": 6,
     "metadata": {},
     "output_type": "execute_result"
    }
   ],
   "source": [
    "b"
   ]
  },
  {
   "cell_type": "code",
   "execution_count": null,
   "id": "5e83c40d",
   "metadata": {},
   "outputs": [],
   "source": [
    "a+=b #a=a+b"
   ]
  },
  {
   "cell_type": "code",
   "execution_count": null,
   "id": "3ef23f4d",
   "metadata": {},
   "outputs": [],
   "source": [
    "a"
   ]
  },
  {
   "cell_type": "code",
   "execution_count": null,
   "id": "8c0f2d7c",
   "metadata": {},
   "outputs": [],
   "source": [
    "b"
   ]
  },
  {
   "cell_type": "markdown",
   "id": "8126b457",
   "metadata": {},
   "source": [
    "# 3. Conditional/Relational Operators"
   ]
  },
  {
   "cell_type": "code",
   "execution_count": 9,
   "id": "e6b3d7e5",
   "metadata": {},
   "outputs": [],
   "source": [
    "a = 5\n",
    "b = 7\n",
    "c = 5"
   ]
  },
  {
   "cell_type": "code",
   "execution_count": 10,
   "id": "401d3c8d",
   "metadata": {},
   "outputs": [],
   "source": [
    "#Result is Always boolean (True or False)"
   ]
  },
  {
   "cell_type": "code",
   "execution_count": 11,
   "id": "469f4664",
   "metadata": {},
   "outputs": [
    {
     "data": {
      "text/plain": [
       "False"
      ]
     },
     "execution_count": 11,
     "metadata": {},
     "output_type": "execute_result"
    }
   ],
   "source": [
    "a==b"
   ]
  },
  {
   "cell_type": "code",
   "execution_count": 12,
   "id": "1ea25036",
   "metadata": {},
   "outputs": [
    {
     "data": {
      "text/plain": [
       "False"
      ]
     },
     "execution_count": 12,
     "metadata": {},
     "output_type": "execute_result"
    }
   ],
   "source": [
    "a>b"
   ]
  },
  {
   "cell_type": "code",
   "execution_count": null,
   "id": "aaadf34b",
   "metadata": {},
   "outputs": [],
   "source": [
    "a<b"
   ]
  },
  {
   "cell_type": "code",
   "execution_count": null,
   "id": "7a61dcd4",
   "metadata": {},
   "outputs": [],
   "source": [
    "a!=b #not equal to"
   ]
  },
  {
   "cell_type": "code",
   "execution_count": 13,
   "id": "9595c406",
   "metadata": {},
   "outputs": [
    {
     "data": {
      "text/plain": [
       "True"
      ]
     },
     "execution_count": 13,
     "metadata": {},
     "output_type": "execute_result"
    }
   ],
   "source": [
    "a==5"
   ]
  },
  {
   "cell_type": "markdown",
   "id": "15af3c5c",
   "metadata": {},
   "source": [
    "# 4. Logical Operators"
   ]
  },
  {
   "cell_type": "code",
   "execution_count": null,
   "id": "ed502425",
   "metadata": {},
   "outputs": [],
   "source": [
    "#and or not"
   ]
  },
  {
   "cell_type": "code",
   "execution_count": 14,
   "id": "8a5454e9",
   "metadata": {},
   "outputs": [],
   "source": [
    "a = 5\n",
    "b = 7\n",
    "c = 5"
   ]
  },
  {
   "cell_type": "code",
   "execution_count": null,
   "id": "5e9eadd2",
   "metadata": {},
   "outputs": [],
   "source": []
  },
  {
   "cell_type": "code",
   "execution_count": 15,
   "id": "fac2585c",
   "metadata": {},
   "outputs": [
    {
     "data": {
      "text/plain": [
       "False"
      ]
     },
     "execution_count": 15,
     "metadata": {},
     "output_type": "execute_result"
    }
   ],
   "source": [
    "a>b and b>c"
   ]
  },
  {
   "cell_type": "code",
   "execution_count": null,
   "id": "2b7bb97e",
   "metadata": {},
   "outputs": [],
   "source": [
    "a>b or b>c"
   ]
  },
  {
   "cell_type": "code",
   "execution_count": null,
   "id": "fa1133fb",
   "metadata": {},
   "outputs": [],
   "source": [
    "True and True or False"
   ]
  },
  {
   "cell_type": "code",
   "execution_count": null,
   "id": "308b9fc8",
   "metadata": {},
   "outputs": [],
   "source": [
    "True and True and True and False"
   ]
  },
  {
   "cell_type": "code",
   "execution_count": 16,
   "id": "3b25d533",
   "metadata": {},
   "outputs": [
    {
     "data": {
      "text/plain": [
       "False"
      ]
     },
     "execution_count": 16,
     "metadata": {},
     "output_type": "execute_result"
    }
   ],
   "source": [
    "not True"
   ]
  },
  {
   "cell_type": "code",
   "execution_count": 17,
   "id": "3b096786",
   "metadata": {},
   "outputs": [
    {
     "data": {
      "text/plain": [
       "True"
      ]
     },
     "execution_count": 17,
     "metadata": {},
     "output_type": "execute_result"
    }
   ],
   "source": [
    "not False"
   ]
  },
  {
   "cell_type": "code",
   "execution_count": null,
   "id": "4e17a76f",
   "metadata": {},
   "outputs": [],
   "source": []
  },
  {
   "cell_type": "code",
   "execution_count": null,
   "id": "542f795d",
   "metadata": {},
   "outputs": [],
   "source": [
    "a<b & b>c"
   ]
  },
  {
   "cell_type": "code",
   "execution_count": null,
   "id": "5e27e59c",
   "metadata": {},
   "outputs": [],
   "source": [
    "(15>16) & (5<8)"
   ]
  },
  {
   "cell_type": "code",
   "execution_count": 20,
   "id": "ea52438d",
   "metadata": {},
   "outputs": [
    {
     "data": {
      "text/plain": [
       "False"
      ]
     },
     "execution_count": 20,
     "metadata": {},
     "output_type": "execute_result"
    }
   ],
   "source": [
    "15>16 and 5<8"
   ]
  },
  {
   "cell_type": "code",
   "execution_count": 23,
   "id": "4e866631",
   "metadata": {},
   "outputs": [
    {
     "data": {
      "text/plain": [
       "True"
      ]
     },
     "execution_count": 23,
     "metadata": {},
     "output_type": "execute_result"
    }
   ],
   "source": [
    "15>16 & 5<8"
   ]
  },
  {
   "cell_type": "code",
   "execution_count": 24,
   "id": "08225cdd",
   "metadata": {},
   "outputs": [
    {
     "data": {
      "text/plain": [
       "5"
      ]
     },
     "execution_count": 24,
     "metadata": {},
     "output_type": "execute_result"
    }
   ],
   "source": [
    "16 and 5"
   ]
  },
  {
   "cell_type": "code",
   "execution_count": 25,
   "id": "e451a331",
   "metadata": {},
   "outputs": [
    {
     "data": {
      "text/plain": [
       "0"
      ]
     },
     "execution_count": 25,
     "metadata": {},
     "output_type": "execute_result"
    }
   ],
   "source": [
    "16 & 5"
   ]
  },
  {
   "cell_type": "code",
   "execution_count": 26,
   "id": "98ba509b",
   "metadata": {},
   "outputs": [
    {
     "data": {
      "text/plain": [
       "'0b10000'"
      ]
     },
     "execution_count": 26,
     "metadata": {},
     "output_type": "execute_result"
    }
   ],
   "source": [
    "bin(16)"
   ]
  },
  {
   "cell_type": "code",
   "execution_count": 27,
   "id": "daac6d71",
   "metadata": {},
   "outputs": [
    {
     "data": {
      "text/plain": [
       "'0b101'"
      ]
     },
     "execution_count": 27,
     "metadata": {},
     "output_type": "execute_result"
    }
   ],
   "source": [
    "bin(5)"
   ]
  },
  {
   "cell_type": "code",
   "execution_count": null,
   "id": "7b0f40ad",
   "metadata": {},
   "outputs": [],
   "source": [
    "16&5"
   ]
  },
  {
   "cell_type": "code",
   "execution_count": null,
   "id": "721a0a73",
   "metadata": {},
   "outputs": [],
   "source": [
    "15>0<8"
   ]
  },
  {
   "cell_type": "code",
   "execution_count": null,
   "id": "ade62ec7",
   "metadata": {},
   "outputs": [],
   "source": []
  },
  {
   "cell_type": "code",
   "execution_count": null,
   "id": "fe992a3c",
   "metadata": {},
   "outputs": [],
   "source": [
    "15>16 & 5<8 or 5>8"
   ]
  },
  {
   "cell_type": "code",
   "execution_count": null,
   "id": "6f4dfe96",
   "metadata": {},
   "outputs": [],
   "source": []
  },
  {
   "cell_type": "code",
   "execution_count": 18,
   "id": "01a2f423",
   "metadata": {},
   "outputs": [
    {
     "data": {
      "text/plain": [
       "False"
      ]
     },
     "execution_count": 18,
     "metadata": {},
     "output_type": "execute_result"
    }
   ],
   "source": [
    "a>b and b>c"
   ]
  },
  {
   "cell_type": "code",
   "execution_count": 19,
   "id": "264c34c6",
   "metadata": {},
   "outputs": [
    {
     "data": {
      "text/plain": [
       "False"
      ]
     },
     "execution_count": 19,
     "metadata": {},
     "output_type": "execute_result"
    }
   ],
   "source": [
    "a>b & b>c"
   ]
  },
  {
   "cell_type": "markdown",
   "id": "d1d80808",
   "metadata": {},
   "source": [
    "# 5. Bitwise Operators\n",
    "\n",
    "&, |\n",
    "\n",
    "bin(), hex(), oct()\n",
    "\n",
    "<<, >> : Shifting"
   ]
  },
  {
   "cell_type": "code",
   "execution_count": null,
   "id": "d238197a",
   "metadata": {},
   "outputs": [],
   "source": [
    "a = 13\n",
    "b = 9"
   ]
  },
  {
   "cell_type": "code",
   "execution_count": null,
   "id": "58f9c9a0",
   "metadata": {},
   "outputs": [],
   "source": [
    "bin(a)"
   ]
  },
  {
   "cell_type": "code",
   "execution_count": null,
   "id": "8e6ec6fa",
   "metadata": {},
   "outputs": [],
   "source": [
    "bin(b)"
   ]
  },
  {
   "cell_type": "code",
   "execution_count": null,
   "id": "74edef0b",
   "metadata": {},
   "outputs": [],
   "source": [
    "a&b"
   ]
  },
  {
   "cell_type": "code",
   "execution_count": null,
   "id": "c7d11776",
   "metadata": {},
   "outputs": [],
   "source": [
    "a|b"
   ]
  },
  {
   "cell_type": "code",
   "execution_count": null,
   "id": "22a9a663",
   "metadata": {},
   "outputs": [],
   "source": [
    "n = 13\n",
    "m = 17"
   ]
  },
  {
   "cell_type": "code",
   "execution_count": null,
   "id": "8d523d15",
   "metadata": {},
   "outputs": [],
   "source": [
    "bin(n)"
   ]
  },
  {
   "cell_type": "code",
   "execution_count": null,
   "id": "583cfa29",
   "metadata": {},
   "outputs": [],
   "source": [
    "bin(m)"
   ]
  },
  {
   "cell_type": "code",
   "execution_count": null,
   "id": "d82ef2be",
   "metadata": {},
   "outputs": [],
   "source": [
    "n&m"
   ]
  },
  {
   "cell_type": "code",
   "execution_count": null,
   "id": "1aa0a2d0",
   "metadata": {},
   "outputs": [],
   "source": [
    "n|m"
   ]
  },
  {
   "cell_type": "code",
   "execution_count": null,
   "id": "80b8e623",
   "metadata": {},
   "outputs": [],
   "source": [
    "n = 101101"
   ]
  },
  {
   "cell_type": "code",
   "execution_count": null,
   "id": "d102ba5e",
   "metadata": {},
   "outputs": [],
   "source": [
    "[2**i for i in range(10,-1,-1)]"
   ]
  },
  {
   "cell_type": "code",
   "execution_count": null,
   "id": "5a4e1fd5",
   "metadata": {},
   "outputs": [],
   "source": [
    "for i in str(n):\n",
    "    print(i)"
   ]
  },
  {
   "cell_type": "code",
   "execution_count": null,
   "id": "ed7e9bf6",
   "metadata": {},
   "outputs": [],
   "source": [
    "a = 19"
   ]
  },
  {
   "cell_type": "code",
   "execution_count": null,
   "id": "57dfb368",
   "metadata": {},
   "outputs": [],
   "source": [
    "bin(a)"
   ]
  },
  {
   "cell_type": "code",
   "execution_count": null,
   "id": "ca61c909",
   "metadata": {},
   "outputs": [],
   "source": [
    "hex(a)"
   ]
  },
  {
   "cell_type": "code",
   "execution_count": null,
   "id": "cd1fe4c8",
   "metadata": {},
   "outputs": [],
   "source": [
    "oct(a)"
   ]
  },
  {
   "cell_type": "code",
   "execution_count": null,
   "id": "e2f2b94b",
   "metadata": {},
   "outputs": [],
   "source": [
    "#Left Shifting\n",
    "\n",
    "a = 19\n",
    "a<<2"
   ]
  },
  {
   "cell_type": "code",
   "execution_count": null,
   "id": "20867fe0",
   "metadata": {},
   "outputs": [],
   "source": [
    "#Right Shifting\n",
    "b = 19\n",
    "b>>2\n"
   ]
  },
  {
   "cell_type": "code",
   "execution_count": null,
   "id": "a8c72141",
   "metadata": {},
   "outputs": [],
   "source": []
  },
  {
   "cell_type": "code",
   "execution_count": null,
   "id": "b7a21630",
   "metadata": {},
   "outputs": [],
   "source": []
  },
  {
   "cell_type": "code",
   "execution_count": null,
   "id": "e677ed21",
   "metadata": {},
   "outputs": [],
   "source": []
  },
  {
   "cell_type": "markdown",
   "id": "142b8ada",
   "metadata": {},
   "source": [
    "# 6. Identity Operators : working with Memory allocation\n",
    "\n",
    "is \n",
    "\n",
    "is not"
   ]
  },
  {
   "cell_type": "code",
   "execution_count": 28,
   "id": "ad9e0785",
   "metadata": {},
   "outputs": [],
   "source": [
    "a = 5\n",
    "b = 7\n",
    "c = 5"
   ]
  },
  {
   "cell_type": "code",
   "execution_count": 29,
   "id": "63813bc2",
   "metadata": {},
   "outputs": [
    {
     "data": {
      "text/plain": [
       "False"
      ]
     },
     "execution_count": 29,
     "metadata": {},
     "output_type": "execute_result"
    }
   ],
   "source": [
    "a == b"
   ]
  },
  {
   "cell_type": "code",
   "execution_count": 30,
   "id": "a0444e57",
   "metadata": {},
   "outputs": [
    {
     "data": {
      "text/plain": [
       "False"
      ]
     },
     "execution_count": 30,
     "metadata": {},
     "output_type": "execute_result"
    }
   ],
   "source": [
    "a is b"
   ]
  },
  {
   "cell_type": "code",
   "execution_count": 31,
   "id": "5016adf5",
   "metadata": {},
   "outputs": [
    {
     "data": {
      "text/plain": [
       "True"
      ]
     },
     "execution_count": 31,
     "metadata": {},
     "output_type": "execute_result"
    }
   ],
   "source": [
    "a!=b"
   ]
  },
  {
   "cell_type": "code",
   "execution_count": 32,
   "id": "275fbc58",
   "metadata": {},
   "outputs": [
    {
     "data": {
      "text/plain": [
       "True"
      ]
     },
     "execution_count": 32,
     "metadata": {},
     "output_type": "execute_result"
    }
   ],
   "source": [
    "a is not b"
   ]
  },
  {
   "cell_type": "code",
   "execution_count": null,
   "id": "f456046d",
   "metadata": {},
   "outputs": [],
   "source": [
    "#this operator is work for (-5 to 255) range only"
   ]
  },
  {
   "cell_type": "code",
   "execution_count": 33,
   "id": "072c0890",
   "metadata": {},
   "outputs": [
    {
     "data": {
      "text/plain": [
       "True"
      ]
     },
     "execution_count": 33,
     "metadata": {},
     "output_type": "execute_result"
    }
   ],
   "source": [
    "a = 7\n",
    "b = 7\n",
    "\n",
    "a is b"
   ]
  },
  {
   "cell_type": "code",
   "execution_count": 34,
   "id": "c27d3511",
   "metadata": {},
   "outputs": [
    {
     "data": {
      "text/plain": [
       "True"
      ]
     },
     "execution_count": 34,
     "metadata": {},
     "output_type": "execute_result"
    }
   ],
   "source": [
    "n = 399\n",
    "m = 399\n",
    "\n",
    "n==m"
   ]
  },
  {
   "cell_type": "code",
   "execution_count": 35,
   "id": "02e3d553",
   "metadata": {},
   "outputs": [
    {
     "data": {
      "text/plain": [
       "False"
      ]
     },
     "execution_count": 35,
     "metadata": {},
     "output_type": "execute_result"
    }
   ],
   "source": [
    "n is m"
   ]
  },
  {
   "cell_type": "code",
   "execution_count": 36,
   "id": "361ce530",
   "metadata": {},
   "outputs": [
    {
     "data": {
      "text/plain": [
       "2306960710064"
      ]
     },
     "execution_count": 36,
     "metadata": {},
     "output_type": "execute_result"
    }
   ],
   "source": [
    "id(n)"
   ]
  },
  {
   "cell_type": "code",
   "execution_count": 37,
   "id": "af9e5615",
   "metadata": {},
   "outputs": [
    {
     "data": {
      "text/plain": [
       "2306960715888"
      ]
     },
     "execution_count": 37,
     "metadata": {},
     "output_type": "execute_result"
    }
   ],
   "source": [
    "id(m)"
   ]
  },
  {
   "cell_type": "code",
   "execution_count": null,
   "id": "d6636e76",
   "metadata": {},
   "outputs": [],
   "source": [
    "id(a)"
   ]
  },
  {
   "cell_type": "code",
   "execution_count": null,
   "id": "1b2e2354",
   "metadata": {},
   "outputs": [],
   "source": [
    "id(b)"
   ]
  },
  {
   "cell_type": "code",
   "execution_count": 38,
   "id": "60f6284a",
   "metadata": {},
   "outputs": [],
   "source": [
    "g = \"Hiikahsfdkaskdhfsdfskdhkfhksjd\"\n",
    "b = \"Hiikahsfdkaskdhfsdfskdhkfhksjd\""
   ]
  },
  {
   "cell_type": "code",
   "execution_count": 39,
   "id": "e65dc48a",
   "metadata": {},
   "outputs": [
    {
     "data": {
      "text/plain": [
       "True"
      ]
     },
     "execution_count": 39,
     "metadata": {},
     "output_type": "execute_result"
    }
   ],
   "source": [
    "g is b"
   ]
  },
  {
   "cell_type": "markdown",
   "id": "0cf16939",
   "metadata": {},
   "source": [
    "# 7. Membership Operators: Any Container/Sequence\n",
    "\n",
    "in\n",
    "\n",
    "not in"
   ]
  },
  {
   "cell_type": "code",
   "execution_count": 40,
   "id": "7a48d105",
   "metadata": {},
   "outputs": [
    {
     "data": {
      "text/plain": [
       "True"
      ]
     },
     "execution_count": 40,
     "metadata": {},
     "output_type": "execute_result"
    }
   ],
   "source": [
    "a = [5,3,4,5,6,7,8,9,9]\n",
    "\n",
    "5 in a"
   ]
  },
  {
   "cell_type": "code",
   "execution_count": 41,
   "id": "f4c5449a",
   "metadata": {},
   "outputs": [
    {
     "data": {
      "text/plain": [
       "True"
      ]
     },
     "execution_count": 41,
     "metadata": {},
     "output_type": "execute_result"
    }
   ],
   "source": [
    "77 not in a"
   ]
  },
  {
   "cell_type": "code",
   "execution_count": 42,
   "id": "80e49750",
   "metadata": {},
   "outputs": [
    {
     "name": "stdout",
     "output_type": "stream",
     "text": [
      "5\n",
      "3\n",
      "4\n",
      "5\n",
      "6\n",
      "7\n",
      "8\n",
      "9\n",
      "9\n"
     ]
    }
   ],
   "source": [
    "for t in a:\n",
    "    print(t)"
   ]
  },
  {
   "cell_type": "code",
   "execution_count": null,
   "id": "ba756cc5",
   "metadata": {},
   "outputs": [],
   "source": [
    "a = (5,4,4,5,67,8,23)\n",
    "for i in a:\n",
    "    print(i)"
   ]
  },
  {
   "cell_type": "code",
   "execution_count": null,
   "id": "1bc1fdbe",
   "metadata": {},
   "outputs": [],
   "source": [
    "\"5\"+\"18\""
   ]
  },
  {
   "cell_type": "code",
   "execution_count": null,
   "id": "63d45536",
   "metadata": {},
   "outputs": [],
   "source": [
    "\"H\"+\"T\""
   ]
  },
  {
   "cell_type": "code",
   "execution_count": null,
   "id": "c723ad1a",
   "metadata": {},
   "outputs": [],
   "source": [
    "\"G\"+8"
   ]
  },
  {
   "cell_type": "code",
   "execution_count": null,
   "id": "a07ac934",
   "metadata": {},
   "outputs": [],
   "source": [
    "v = 'a = [5,3,4,5,6,7,8,9,9]'"
   ]
  },
  {
   "cell_type": "code",
   "execution_count": null,
   "id": "fae389d7",
   "metadata": {},
   "outputs": [],
   "source": [
    "type(v)"
   ]
  },
  {
   "cell_type": "code",
   "execution_count": null,
   "id": "6a26e545",
   "metadata": {},
   "outputs": [],
   "source": [
    "v"
   ]
  },
  {
   "cell_type": "code",
   "execution_count": null,
   "id": "b044dcfa",
   "metadata": {},
   "outputs": [],
   "source": []
  }
 ],
 "metadata": {
  "kernelspec": {
   "display_name": "Python 3 (ipykernel)",
   "language": "python",
   "name": "python3"
  },
  "language_info": {
   "codemirror_mode": {
    "name": "ipython",
    "version": 3
   },
   "file_extension": ".py",
   "mimetype": "text/x-python",
   "name": "python",
   "nbconvert_exporter": "python",
   "pygments_lexer": "ipython3",
   "version": "3.11.5"
  }
 },
 "nbformat": 4,
 "nbformat_minor": 5
}
